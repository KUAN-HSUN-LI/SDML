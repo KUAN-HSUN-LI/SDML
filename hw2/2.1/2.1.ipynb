{
 "cells": [
  {
   "cell_type": "markdown",
   "metadata": {},
   "source": [
    "## Set random seed"
   ]
  },
  {
   "cell_type": "code",
   "execution_count": 37,
   "metadata": {},
   "outputs": [
    {
     "data": {
      "text/plain": [
       "<torch._C.Generator at 0x1d7a110bdb0>"
      ]
     },
     "execution_count": 37,
     "metadata": {},
     "output_type": "execute_result"
    }
   ],
   "source": [
    "import torch\n",
    "torch.manual_seed(42)"
   ]
  },
  {
   "cell_type": "markdown",
   "metadata": {},
   "source": [
    "## Preprocess"
   ]
  },
  {
   "cell_type": "code",
   "execution_count": 38,
   "metadata": {},
   "outputs": [],
   "source": [
    "def preprocess(path, max_len = None, testing = False):\n",
    "    dataset = []\n",
    "    with open(path, 'r', encoding='UTF-8') as f:\n",
    "        for line in f:\n",
    "            line = line.strip()\n",
    "            if testing:\n",
    "                dataset.append([word for word in line])\n",
    "            else:\n",
    "                dataset.append(['<SOS>'] + [word for word in line[:max_len]] + ['<EOS>'])\n",
    "    return dataset"
   ]
  },
  {
   "cell_type": "code",
   "execution_count": 39,
   "metadata": {},
   "outputs": [],
   "source": [
    "max_len = 25\n",
    "dataset = preprocess('hw2.1_corpus.txt', max_len)\n",
    "testDataset = preprocess('hw2.1-2_sample_testing_data.txt', testing=True)"
   ]
  },
  {
   "cell_type": "code",
   "execution_count": 40,
   "metadata": {},
   "outputs": [],
   "source": [
    "class Word_dict():\n",
    "    def __init__(self, dataset, max_len):\n",
    "        self.word_dict = {}\n",
    "        self.idx_dict = {}\n",
    "        self.add(\"<PAD>\")\n",
    "        for i in range(1, max_len - 1):\n",
    "            self.add(str(i))\n",
    "        self.add(\"<UNK>\")\n",
    "\n",
    "        self.make_dict(dataset)\n",
    "        \n",
    "    def make_dict(self, dataset):\n",
    "        for sent in dataset:\n",
    "            for word in sent:\n",
    "                self.add(word)\n",
    "        \n",
    "    def add(self, word):\n",
    "        if word not in self.word_dict:\n",
    "            self.idx_dict[self.get_len()] = word\n",
    "            self.word_dict[word] = self.get_len()\n",
    "            \n",
    "            \n",
    "    def word2index(self, word):\n",
    "        if word in self.word_dict:\n",
    "            return self.word_dict[word]\n",
    "        else:\n",
    "            return self.word_dict[\"<UNK>\"]\n",
    "    \n",
    "    def idx2word(self, idx):\n",
    "        return self.idx_dict[idx]\n",
    "    \n",
    "    def get_len(self):\n",
    "        return len(self.word_dict)"
   ]
  },
  {
   "cell_type": "code",
   "execution_count": 41,
   "metadata": {},
   "outputs": [],
   "source": [
    "word_dict = Word_dict(dataset, max_len)\n",
    "PAD_IDX = word_dict.word2index(\"<PAD>\")\n",
    "import pickle\n",
    "\n",
    "with open('dicitonary.pkl','wb') as f:\n",
    "    pickle.dump(word_dict, f)"
   ]
  },
  {
   "cell_type": "code",
   "execution_count": 42,
   "metadata": {},
   "outputs": [],
   "source": [
    "def data2index(sent):\n",
    "    return [word_dict.word2index(word) for word in sent]\n",
    "\n",
    "def process_training_data(dataset):\n",
    "    datas = []\n",
    "    for idx in range(len(dataset)-1):\n",
    "        processed = {}\n",
    "        processed['x'] = data2index(dataset[idx])\n",
    "        processed['y'] = data2index(dataset[idx+1])\n",
    "        datas.append(processed)\n",
    "    return datas\n",
    "\n",
    "def process_testing_data(dataset):\n",
    "    datas = []\n",
    "    for data in dataset:\n",
    "        datas.append(data2index(data))\n",
    "    return datas"
   ]
  },
  {
   "cell_type": "code",
   "execution_count": 43,
   "metadata": {},
   "outputs": [],
   "source": [
    "from sklearn.model_selection import train_test_split\n",
    "\n",
    "data = process_training_data(dataset)\n",
    "trainData, validData = train_test_split(data, test_size=0.2, random_state=42)\n",
    "\n",
    "testData = process_testing_data(testDataset)"
   ]
  },
  {
   "cell_type": "code",
   "execution_count": 44,
   "metadata": {},
   "outputs": [],
   "source": [
    "from sklearn.model_selection import train_test_split\n",
    "trainData, validData = train_test_split(data, test_size=0.2, random_state=42)"
   ]
  },
  {
   "cell_type": "code",
   "execution_count": 45,
   "metadata": {},
   "outputs": [],
   "source": [
    "import random\n",
    "random.seed(42)"
   ]
  },
  {
   "cell_type": "code",
   "execution_count": 46,
   "metadata": {},
   "outputs": [],
   "source": [
    "from torch.utils.data import Dataset\n",
    "from torch.nn.utils.rnn import pack_padded_sequence, pad_packed_sequence\n",
    "import torch\n",
    "\n",
    "class SentenceDataset(Dataset):\n",
    "    def __init__(self, data, pad_idx, ncontrols = 1, training = True):\n",
    "        self.data = data\n",
    "        self.pad_idx = pad_idx\n",
    "        self.max_len = max_len\n",
    "        self.training = training\n",
    "        self.ncontrols = ncontrols\n",
    "    def __len__(self):\n",
    "        return len(self.data)\n",
    "\n",
    "    def __getitem__(self, index):\n",
    "        return self.data[index]\n",
    "        \n",
    "    def collate_fn(self, datas):\n",
    "        if self.training:\n",
    "            processed_data = []\n",
    "            for data in datas:\n",
    "                self.process_data(data)\n",
    "                processed_data.append(data)\n",
    "            processed_data.sort(key=lambda x : len(x['x']), reverse=True)\n",
    "            batch_data = [data['x'] for data in processed_data]\n",
    "            \n",
    "            datas_len = [len(data) for data in batch_data]\n",
    "            batch_data = self.make_padding(batch_data)\n",
    "            \n",
    "            batch_label = [data['y'] for data in processed_data]\n",
    "            batch_label = self.make_padding(batch_label)\n",
    "            batch_random_num = [data['random_num'] for data in processed_data]\n",
    "                        \n",
    "            return torch.LongTensor(batch_data), torch.LongTensor(batch_label), torch.LongTensor(datas_len), batch_random_num\n",
    "        \n",
    "        else:\n",
    "            datas_idx = sorted(range(len(datas)), key=lambda x : datas[x])\n",
    "            datas.sort(key=lambda x: len(x), reverse=True)\n",
    "            datas_len = [len(sent) for sent in datas]\n",
    "            batch_data = self.make_padding(datas)\n",
    "            return torch.LongTensor(batch_data), torch.LongTensor(datas_len), datas_idx\n",
    "    \n",
    "    def process_data(self, data):\n",
    "        data['random_num'] = self.get_ncontrols(len(data['y'])-2)\n",
    "        data['x'] = self.add_control(data['x'], data['y'], data['random_num'])\n",
    "    \n",
    "    def get_ncontrols(self, sent_len):\n",
    "        sample_num = random.randint(1, self.ncontrols)\n",
    "        if sent_len < sample_num:\n",
    "            sample_num = sent_len\n",
    "            \n",
    "        samples = random.sample([i for i in range(1, sent_len+1)], sample_num)\n",
    "        samples.sort()\n",
    "        return samples\n",
    "    \n",
    "    def add_control(self, data, label, samples):\n",
    "        for sample in samples:\n",
    "            data = data + [word_dict.word2index(str(sample))] + [label[sample]]\n",
    "        return data\n",
    "    \n",
    "    def make_padding(self, datas):\n",
    "        max_len = max([len(data) for data in datas])\n",
    "        return [data + [self.pad_idx]*(max_len-len(data)) for data in datas]"
   ]
  },
  {
   "cell_type": "code",
   "execution_count": 47,
   "metadata": {},
   "outputs": [],
   "source": [
    "trainData = SentenceDataset(trainData, PAD_IDX, 2)\n",
    "validData = SentenceDataset(validData, PAD_IDX, 2)\n",
    "testData = SentenceDataset(testData, PAD_IDX, training = False)"
   ]
  },
  {
   "cell_type": "markdown",
   "metadata": {},
   "source": [
    "## Model"
   ]
  },
  {
   "cell_type": "code",
   "execution_count": 48,
   "metadata": {},
   "outputs": [],
   "source": [
    "from torch import nn"
   ]
  },
  {
   "cell_type": "code",
   "execution_count": 49,
   "metadata": {},
   "outputs": [],
   "source": [
    "class Embedding(nn.Module):\n",
    "    def __init__(self, input_dim, emb_dim):\n",
    "        super(Embedding, self).__init__()\n",
    "        \n",
    "        self.embedding = nn.Embedding(input_dim, emb_dim)\n",
    "        \n",
    "    def forward(self, input):\n",
    "        embedded = self.embedding(input)\n",
    "        \n",
    "        return embedded"
   ]
  },
  {
   "cell_type": "code",
   "execution_count": 50,
   "metadata": {},
   "outputs": [],
   "source": [
    "from torch.nn.utils.rnn import pack_padded_sequence\n",
    "class Encoder(nn.Module):\n",
    "    def __init__(self, emb_dim, hid_dim, embedding):\n",
    "        super(Encoder, self).__init__()\n",
    "        \n",
    "        self.embedding = embedding\n",
    "    \n",
    "        self.rnn = nn.GRU(emb_dim, hid_dim, batch_first=True)        \n",
    "    \n",
    "    def forward(self, input, data_len):\n",
    "        input = self.embedding(input)\n",
    "        \n",
    "        pack_datas = pack_padded_sequence(input, data_len, batch_first=True)\n",
    "        \n",
    "        outputs, hidden = self.rnn(input)\n",
    "        \n",
    "        return hidden"
   ]
  },
  {
   "cell_type": "code",
   "execution_count": 51,
   "metadata": {},
   "outputs": [],
   "source": [
    "class Decoder(nn.Module):\n",
    "    def __init__(self, output_dim, emb_dim, hid_dim, embedding):\n",
    "        super(Decoder, self).__init__()\n",
    "        \n",
    "        self.output_dim = output_dim\n",
    "        \n",
    "        self.embedding = embedding\n",
    "        \n",
    "        self.rnn = nn.GRU(emb_dim, hid_dim, batch_first=True)\n",
    "\n",
    "        self.out = nn.Linear(hid_dim, output_dim)\n",
    "        \n",
    "    def forward(self, input, hidden):\n",
    "        input = self.embedding(input)\n",
    "        \n",
    "        output, hidden = self.rnn(input, hidden)\n",
    "        \n",
    "        prediction = self.out(output)\n",
    "        \n",
    "        return prediction, hidden"
   ]
  },
  {
   "cell_type": "code",
   "execution_count": 63,
   "metadata": {},
   "outputs": [],
   "source": [
    "class Seq2Seq(nn.Module):\n",
    "    def __init__(self, encoder, decoder):\n",
    "        super(Seq2Seq, self).__init__()\n",
    "        \n",
    "        self.encoder = encoder\n",
    "        self.decoder = decoder\n",
    "        \n",
    "    def forward(self, src, trg = None, data_len = None, teacher_forcing_ratio = 0.5, training = True):\n",
    "        batch_size = src.shape[0]\n",
    "        if training:\n",
    "            max_len = trg.shape[1]\n",
    "        else:\n",
    "            max_len = 25\n",
    "        \n",
    "        trg_vocab_size = self.decoder.output_dim\n",
    "        \n",
    "        outputs = torch.zeros(batch_size, max_len-1, trg_vocab_size).to(device)\n",
    "        \n",
    "        hidden = self.encoder(src, data_len)\n",
    "        \n",
    "        input = src[:, 0:1]\n",
    "        for t in range(1, max_len):\n",
    "            output, hidden = self.decoder(input, hidden)\n",
    "            outputs[:,t-1:t] = output\n",
    "            \n",
    "            top1 = output.argmax(2)\n",
    "            \n",
    "            if torch.rand(1) > teacher_forcing_ratio:\n",
    "                input = top1\n",
    "            else:\n",
    "                input = trg[:,t:t+1]\n",
    "        return outputs"
   ]
  },
  {
   "cell_type": "markdown",
   "metadata": {},
   "source": [
    "## Train"
   ]
  },
  {
   "cell_type": "code",
   "execution_count": 64,
   "metadata": {},
   "outputs": [],
   "source": [
    "device = torch.device('cuda' if torch.cuda.is_available() else 'cpu')"
   ]
  },
  {
   "cell_type": "code",
   "execution_count": 65,
   "metadata": {},
   "outputs": [],
   "source": [
    "INPUT_DIM = word_dict.get_len()\n",
    "OUTPUT_DIM = word_dict.get_len()\n",
    "EMB_DIM = 128\n",
    "HID_DIM = 128\n",
    "\n",
    "emb = Embedding(INPUT_DIM, EMB_DIM)\n",
    "enc = Encoder(EMB_DIM, HID_DIM, emb)\n",
    "dec = Decoder(OUTPUT_DIM, EMB_DIM, HID_DIM, emb)\n",
    "\n",
    "model = Seq2Seq(enc, dec).to(device)"
   ]
  },
  {
   "cell_type": "code",
   "execution_count": 66,
   "metadata": {},
   "outputs": [
    {
     "name": "stdout",
     "output_type": "stream",
     "text": [
      "Seq2Seq(\n",
      "  (encoder): Encoder(\n",
      "    (embedding): Embedding(\n",
      "      (embedding): Embedding(6581, 128)\n",
      "    )\n",
      "    (rnn): GRU(128, 128, batch_first=True)\n",
      "  )\n",
      "  (decoder): Decoder(\n",
      "    (embedding): Embedding(\n",
      "      (embedding): Embedding(6581, 128)\n",
      "    )\n",
      "    (rnn): GRU(128, 128, batch_first=True)\n",
      "    (out): Linear(in_features=128, out_features=6581, bias=True)\n",
      "  )\n",
      ")\n"
     ]
    }
   ],
   "source": [
    "print(model)"
   ]
  },
  {
   "cell_type": "code",
   "execution_count": 67,
   "metadata": {},
   "outputs": [
    {
     "name": "stdout",
     "output_type": "stream",
     "text": [
      "The model has 1,889,461 trainable parameters\n"
     ]
    }
   ],
   "source": [
    "def count_parameters(model):\n",
    "    return sum(p.numel() for p in model.parameters() if p.requires_grad)\n",
    "\n",
    "print(f'The model has {count_parameters(model):,} trainable parameters')"
   ]
  },
  {
   "cell_type": "code",
   "execution_count": 68,
   "metadata": {},
   "outputs": [],
   "source": [
    "class accuracy():\n",
    "    def __init__(self):\n",
    "        self.ncontrol_word = 0\n",
    "        self.nword_correct = 0\n",
    "    def update(self, predictions, groundTruths, random_nums):\n",
    "        predictions = predictions.cpu()\n",
    "        groundTruths = groundTruths.cpu()\n",
    "        for i in range(len(groundTruths)):\n",
    "            length = int(torch.sum(groundTruths[i] != PAD_IDX))\n",
    "            prediction = predictions[i][:length]\n",
    "            groundTruth = groundTruths[i][:length]\n",
    "            random_num = random_nums[i]\n",
    "            self.ncontrol_word += len(random_num)\n",
    "            for num in random_num:\n",
    "                if prediction[num] == groundTruth[num]:\n",
    "                    self.nword_correct += 1\n",
    "            \n",
    "    \n",
    "    def get_word_score(self):\n",
    "        return self.nword_correct / self.ncontrol_word\n",
    "    \n",
    "    def print_word_score(self):\n",
    "        score = self.get_word_score()\n",
    "        return '{:.5f}'.format(score)"
   ]
  },
  {
   "cell_type": "code",
   "execution_count": 58,
   "metadata": {},
   "outputs": [],
   "source": [
    "import os\n",
    "from torch.utils.data import DataLoader\n",
    "from tqdm import tqdm_notebook as tqdm\n",
    "import json\n",
    "\n",
    "def run_epoch(epoch, training):\n",
    "    model.train(training)\n",
    "    if training:\n",
    "        description = 'Train'\n",
    "        dataset = trainData\n",
    "        shuffle = True\n",
    "    else:\n",
    "        description = 'Valid'\n",
    "        dataset = validData\n",
    "        shuffle = False\n",
    "    \n",
    "    dataloader = DataLoader(dataset = dataset,\n",
    "                            batch_size = batch_size,\n",
    "                            shuffle=shuffle,\n",
    "                            collate_fn=dataset.collate_fn,\n",
    "                            num_workers=0)\n",
    "    \n",
    "    trange = tqdm(enumerate(dataloader), total=len(dataloader), desc=description)\n",
    "    loss = 0\n",
    "    acc = accuracy()\n",
    "    for i, (x, y, data_len, random_num) in trange:\n",
    "        output, sent_loss = run_iter(x, y, data_len, random_num, training)\n",
    "        batch_loss = sent_loss\n",
    "        if training:\n",
    "            opt.zero_grad()\n",
    "            batch_loss.backward()\n",
    "            opt.step()\n",
    "        loss += batch_loss.item()\n",
    "        acc.update(output, y, random_num)\n",
    "        trange.set_postfix(loss = loss / (i + 1), acc = acc.print_score())\n",
    "    if training:\n",
    "        history['train'].append({'acc':acc.get_word_score(), 'loss':loss/ len(trange)})\n",
    "    else:\n",
    "        history['valid'].append({'acc':acc.get_word_score(), 'loss':loss/ len(trange)})\n",
    "def run_iter(x, y, data_len, random_nums, training):\n",
    "    x = x.to(device)\n",
    "    y = y.to(device)\n",
    "    if training:\n",
    "        output = model(x, y, data_len)\n",
    "    else:\n",
    "        with torch.no_grad():\n",
    "            output = model(x, y, data_len, 0)\n",
    "    sent = y[:, 1:]\n",
    "    sent = sent.reshape(sent.shape[0] * sent.shape[1])\n",
    "    output_sent = output.view(output.shape[0] * output.shape[1], output.shape[2])\n",
    "    sent_loss = criterion(output_sent, sent)\n",
    "        \n",
    "    return output.argmax(2), sent_loss\n",
    "\n",
    "def save(epoch):\n",
    "    if not os.path.exists('model'):\n",
    "        os.makedirs('model')\n",
    "    torch.save(model.state_dict(), 'model/model.pkl.'+str(epoch))\n",
    "    with open('model/history.json', 'w') as f:\n",
    "        json.dump(history, f, indent=4)"
   ]
  },
  {
   "cell_type": "code",
   "execution_count": 59,
   "metadata": {},
   "outputs": [],
   "source": [
    "criterion = nn.CrossEntropyLoss(ignore_index = PAD_IDX)\n",
    "\n",
    "opt = torch.optim.Adam(model.parameters(), lr=1e-3)\n",
    "scheduler = torch.optim.lr_scheduler.StepLR(opt, step_size = 10, gamma = 0.5)\n",
    "max_epoch = 50\n",
    "batch_size = 32\n",
    "history = {'train':[],'valid':[]}"
   ]
  },
  {
   "cell_type": "code",
   "execution_count": 30,
   "metadata": {
    "scrolled": true
   },
   "outputs": [
    {
     "name": "stdout",
     "output_type": "stream",
     "text": [
      "Epoch: 0\n"
     ]
    },
    {
     "data": {
      "application/vnd.jupyter.widget-view+json": {
       "model_id": "502e91fc66ed47c8a755d97ea4e4e997",
       "version_major": 2,
       "version_minor": 0
      },
      "text/plain": [
       "HBox(children=(IntProgress(value=0, description='Valid', max=4636, style=ProgressStyle(description_width='init…"
      ]
     },
     "metadata": {},
     "output_type": "display_data"
    },
    {
     "ename": "KeyboardInterrupt",
     "evalue": "",
     "output_type": "error",
     "traceback": [
      "\u001b[1;31m---------------------------------------------------------------------------\u001b[0m",
      "\u001b[1;31mKeyboardInterrupt\u001b[0m                         Traceback (most recent call last)",
      "\u001b[1;32m<ipython-input-30-aa68c86968fa>\u001b[0m in \u001b[0;36m<module>\u001b[1;34m\u001b[0m\n\u001b[0;32m      2\u001b[0m     \u001b[0mprint\u001b[0m\u001b[1;33m(\u001b[0m\u001b[1;34m'Epoch: {}'\u001b[0m\u001b[1;33m.\u001b[0m\u001b[0mformat\u001b[0m\u001b[1;33m(\u001b[0m\u001b[0mepoch\u001b[0m\u001b[1;33m)\u001b[0m\u001b[1;33m)\u001b[0m\u001b[1;33m\u001b[0m\u001b[1;33m\u001b[0m\u001b[0m\n\u001b[0;32m      3\u001b[0m \u001b[1;31m#     run_epoch(epoch, True)\u001b[0m\u001b[1;33m\u001b[0m\u001b[1;33m\u001b[0m\u001b[1;33m\u001b[0m\u001b[0m\n\u001b[1;32m----> 4\u001b[1;33m     \u001b[0mrun_epoch\u001b[0m\u001b[1;33m(\u001b[0m\u001b[0mepoch\u001b[0m\u001b[1;33m,\u001b[0m \u001b[1;32mFalse\u001b[0m\u001b[1;33m)\u001b[0m\u001b[1;33m\u001b[0m\u001b[1;33m\u001b[0m\u001b[0m\n\u001b[0m\u001b[0;32m      5\u001b[0m     \u001b[0mscheduler\u001b[0m\u001b[1;33m.\u001b[0m\u001b[0mstep\u001b[0m\u001b[1;33m(\u001b[0m\u001b[1;33m)\u001b[0m\u001b[1;33m\u001b[0m\u001b[1;33m\u001b[0m\u001b[0m\n\u001b[0;32m      6\u001b[0m     \u001b[0msave\u001b[0m\u001b[1;33m(\u001b[0m\u001b[0mepoch\u001b[0m\u001b[1;33m)\u001b[0m\u001b[1;33m\u001b[0m\u001b[1;33m\u001b[0m\u001b[0m\n",
      "\u001b[1;32m<ipython-input-28-18191f3ace5d>\u001b[0m in \u001b[0;36mrun_epoch\u001b[1;34m(epoch, training)\u001b[0m\n\u001b[0;32m     26\u001b[0m     \u001b[0macc\u001b[0m \u001b[1;33m=\u001b[0m \u001b[0maccuracy\u001b[0m\u001b[1;33m(\u001b[0m\u001b[1;33m)\u001b[0m\u001b[1;33m\u001b[0m\u001b[1;33m\u001b[0m\u001b[0m\n\u001b[0;32m     27\u001b[0m     \u001b[1;32mfor\u001b[0m \u001b[0mi\u001b[0m\u001b[1;33m,\u001b[0m \u001b[1;33m(\u001b[0m\u001b[0mx\u001b[0m\u001b[1;33m,\u001b[0m \u001b[0my\u001b[0m\u001b[1;33m,\u001b[0m \u001b[0mdata_len\u001b[0m\u001b[1;33m,\u001b[0m \u001b[0mrandom_num\u001b[0m\u001b[1;33m)\u001b[0m \u001b[1;32min\u001b[0m \u001b[0mtrange\u001b[0m\u001b[1;33m:\u001b[0m\u001b[1;33m\u001b[0m\u001b[1;33m\u001b[0m\u001b[0m\n\u001b[1;32m---> 28\u001b[1;33m         \u001b[0moutput\u001b[0m\u001b[1;33m,\u001b[0m \u001b[0msent_loss\u001b[0m \u001b[1;33m=\u001b[0m \u001b[0mrun_iter\u001b[0m\u001b[1;33m(\u001b[0m\u001b[0mx\u001b[0m\u001b[1;33m,\u001b[0m \u001b[0my\u001b[0m\u001b[1;33m,\u001b[0m \u001b[0mdata_len\u001b[0m\u001b[1;33m,\u001b[0m \u001b[0mrandom_num\u001b[0m\u001b[1;33m,\u001b[0m \u001b[0mtraining\u001b[0m\u001b[1;33m)\u001b[0m\u001b[1;33m\u001b[0m\u001b[1;33m\u001b[0m\u001b[0m\n\u001b[0m\u001b[0;32m     29\u001b[0m         \u001b[0mbatch_loss\u001b[0m \u001b[1;33m=\u001b[0m \u001b[0msent_loss\u001b[0m\u001b[1;33m\u001b[0m\u001b[1;33m\u001b[0m\u001b[0m\n\u001b[0;32m     30\u001b[0m         \u001b[1;32mif\u001b[0m \u001b[0mtraining\u001b[0m\u001b[1;33m:\u001b[0m\u001b[1;33m\u001b[0m\u001b[1;33m\u001b[0m\u001b[0m\n",
      "\u001b[1;32m<ipython-input-28-18191f3ace5d>\u001b[0m in \u001b[0;36mrun_iter\u001b[1;34m(x, y, data_len, random_nums, training)\u001b[0m\n\u001b[0;32m     47\u001b[0m     \u001b[1;32melse\u001b[0m\u001b[1;33m:\u001b[0m\u001b[1;33m\u001b[0m\u001b[1;33m\u001b[0m\u001b[0m\n\u001b[0;32m     48\u001b[0m         \u001b[1;32mwith\u001b[0m \u001b[0mtorch\u001b[0m\u001b[1;33m.\u001b[0m\u001b[0mno_grad\u001b[0m\u001b[1;33m(\u001b[0m\u001b[1;33m)\u001b[0m\u001b[1;33m:\u001b[0m\u001b[1;33m\u001b[0m\u001b[1;33m\u001b[0m\u001b[0m\n\u001b[1;32m---> 49\u001b[1;33m             \u001b[0moutput\u001b[0m \u001b[1;33m=\u001b[0m \u001b[0mmodel\u001b[0m\u001b[1;33m(\u001b[0m\u001b[0mx\u001b[0m\u001b[1;33m,\u001b[0m \u001b[0my\u001b[0m\u001b[1;33m,\u001b[0m \u001b[0mdata_len\u001b[0m\u001b[1;33m,\u001b[0m \u001b[1;36m0\u001b[0m\u001b[1;33m)\u001b[0m\u001b[1;33m\u001b[0m\u001b[1;33m\u001b[0m\u001b[0m\n\u001b[0m\u001b[0;32m     50\u001b[0m     \u001b[0msent\u001b[0m \u001b[1;33m=\u001b[0m \u001b[0my\u001b[0m\u001b[1;33m[\u001b[0m\u001b[1;33m:\u001b[0m\u001b[1;33m,\u001b[0m \u001b[1;36m1\u001b[0m\u001b[1;33m:\u001b[0m\u001b[1;33m]\u001b[0m\u001b[1;33m\u001b[0m\u001b[1;33m\u001b[0m\u001b[0m\n\u001b[0;32m     51\u001b[0m     \u001b[0msent\u001b[0m \u001b[1;33m=\u001b[0m \u001b[0msent\u001b[0m\u001b[1;33m.\u001b[0m\u001b[0mreshape\u001b[0m\u001b[1;33m(\u001b[0m\u001b[0msent\u001b[0m\u001b[1;33m.\u001b[0m\u001b[0mshape\u001b[0m\u001b[1;33m[\u001b[0m\u001b[1;36m0\u001b[0m\u001b[1;33m]\u001b[0m \u001b[1;33m*\u001b[0m \u001b[0msent\u001b[0m\u001b[1;33m.\u001b[0m\u001b[0mshape\u001b[0m\u001b[1;33m[\u001b[0m\u001b[1;36m1\u001b[0m\u001b[1;33m]\u001b[0m\u001b[1;33m)\u001b[0m\u001b[1;33m\u001b[0m\u001b[1;33m\u001b[0m\u001b[0m\n",
      "\u001b[1;32m~\\Miniconda3\\envs\\ml\\lib\\site-packages\\torch\\nn\\modules\\module.py\u001b[0m in \u001b[0;36m__call__\u001b[1;34m(self, *input, **kwargs)\u001b[0m\n\u001b[0;32m    545\u001b[0m             \u001b[0mresult\u001b[0m \u001b[1;33m=\u001b[0m \u001b[0mself\u001b[0m\u001b[1;33m.\u001b[0m\u001b[0m_slow_forward\u001b[0m\u001b[1;33m(\u001b[0m\u001b[1;33m*\u001b[0m\u001b[0minput\u001b[0m\u001b[1;33m,\u001b[0m \u001b[1;33m**\u001b[0m\u001b[0mkwargs\u001b[0m\u001b[1;33m)\u001b[0m\u001b[1;33m\u001b[0m\u001b[1;33m\u001b[0m\u001b[0m\n\u001b[0;32m    546\u001b[0m         \u001b[1;32melse\u001b[0m\u001b[1;33m:\u001b[0m\u001b[1;33m\u001b[0m\u001b[1;33m\u001b[0m\u001b[0m\n\u001b[1;32m--> 547\u001b[1;33m             \u001b[0mresult\u001b[0m \u001b[1;33m=\u001b[0m \u001b[0mself\u001b[0m\u001b[1;33m.\u001b[0m\u001b[0mforward\u001b[0m\u001b[1;33m(\u001b[0m\u001b[1;33m*\u001b[0m\u001b[0minput\u001b[0m\u001b[1;33m,\u001b[0m \u001b[1;33m**\u001b[0m\u001b[0mkwargs\u001b[0m\u001b[1;33m)\u001b[0m\u001b[1;33m\u001b[0m\u001b[1;33m\u001b[0m\u001b[0m\n\u001b[0m\u001b[0;32m    548\u001b[0m         \u001b[1;32mfor\u001b[0m \u001b[0mhook\u001b[0m \u001b[1;32min\u001b[0m \u001b[0mself\u001b[0m\u001b[1;33m.\u001b[0m\u001b[0m_forward_hooks\u001b[0m\u001b[1;33m.\u001b[0m\u001b[0mvalues\u001b[0m\u001b[1;33m(\u001b[0m\u001b[1;33m)\u001b[0m\u001b[1;33m:\u001b[0m\u001b[1;33m\u001b[0m\u001b[1;33m\u001b[0m\u001b[0m\n\u001b[0;32m    549\u001b[0m             \u001b[0mhook_result\u001b[0m \u001b[1;33m=\u001b[0m \u001b[0mhook\u001b[0m\u001b[1;33m(\u001b[0m\u001b[0mself\u001b[0m\u001b[1;33m,\u001b[0m \u001b[0minput\u001b[0m\u001b[1;33m,\u001b[0m \u001b[0mresult\u001b[0m\u001b[1;33m)\u001b[0m\u001b[1;33m\u001b[0m\u001b[1;33m\u001b[0m\u001b[0m\n",
      "\u001b[1;32m<ipython-input-19-35576b9d24bc>\u001b[0m in \u001b[0;36mforward\u001b[1;34m(self, src, trg, datalen, teacher_forcing_ratio, training)\u001b[0m\n\u001b[0;32m     24\u001b[0m             \u001b[0moutputs\u001b[0m\u001b[1;33m[\u001b[0m\u001b[1;33m:\u001b[0m\u001b[1;33m,\u001b[0m\u001b[0mt\u001b[0m\u001b[1;33m:\u001b[0m\u001b[0mt\u001b[0m\u001b[1;33m+\u001b[0m\u001b[1;36m1\u001b[0m\u001b[1;33m]\u001b[0m \u001b[1;33m=\u001b[0m \u001b[0moutput\u001b[0m\u001b[1;33m\u001b[0m\u001b[1;33m\u001b[0m\u001b[0m\n\u001b[0;32m     25\u001b[0m \u001b[1;33m\u001b[0m\u001b[0m\n\u001b[1;32m---> 26\u001b[1;33m             \u001b[0mtop1\u001b[0m \u001b[1;33m=\u001b[0m \u001b[0moutput\u001b[0m\u001b[1;33m.\u001b[0m\u001b[0margmax\u001b[0m\u001b[1;33m(\u001b[0m\u001b[1;36m2\u001b[0m\u001b[1;33m)\u001b[0m\u001b[1;33m\u001b[0m\u001b[1;33m\u001b[0m\u001b[0m\n\u001b[0m\u001b[0;32m     27\u001b[0m \u001b[1;33m\u001b[0m\u001b[0m\n\u001b[0;32m     28\u001b[0m             \u001b[1;32mif\u001b[0m \u001b[0mtorch\u001b[0m\u001b[1;33m.\u001b[0m\u001b[0mrand\u001b[0m\u001b[1;33m(\u001b[0m\u001b[1;36m1\u001b[0m\u001b[1;33m)\u001b[0m \u001b[1;33m>\u001b[0m \u001b[0mteacher_forcing_ratio\u001b[0m\u001b[1;33m:\u001b[0m\u001b[1;33m\u001b[0m\u001b[1;33m\u001b[0m\u001b[0m\n",
      "\u001b[1;31mKeyboardInterrupt\u001b[0m: "
     ]
    }
   ],
   "source": [
    "for epoch in range(max_epoch):\n",
    "    print('Epoch: {}'.format(epoch))\n",
    "#     run_epoch(epoch, True)\n",
    "    run_epoch(epoch, False)\n",
    "    scheduler.step()\n",
    "    save(epoch)"
   ]
  },
  {
   "cell_type": "code",
   "execution_count": 57,
   "metadata": {},
   "outputs": [
    {
     "data": {
      "image/png": "[encoded data removed]",
      "text/plain": [
       "<Figure size 504x360 with 1 Axes>"
      ]
     },
     "metadata": {
      "needs_background": "light"
     },
     "output_type": "display_data"
    },
    {
     "data": {
      "image/png": "[encoded data removed]",
      "text/plain": [
       "<Figure size 504x360 with 1 Axes>"
      ]
     },
     "metadata": {
      "needs_background": "light"
     },
     "output_type": "display_data"
    },
    {
     "name": "stdout",
     "output_type": "stream",
     "text": [
      "Best F1 score  [0.0, 49]\n"
     ]
    }
   ],
   "source": [
    "import matplotlib.pyplot as plt\n",
    "%matplotlib inline\n",
    "\n",
    "with open('model/history.json', 'r') as f:\n",
    "    history = json.loads(f.read())\n",
    "    \n",
    "train_loss = [l['loss'] for l in history['train']]\n",
    "valid_loss = [l['loss'] for l in history['valid']]\n",
    "train_f1 = [l['word_acc'] for l in history['train']]\n",
    "valid_f1 = [l['acc'] for l in history['valid']]\n",
    "\n",
    "plt.figure(figsize=(7,5))\n",
    "plt.title('Loss')\n",
    "plt.plot(train_loss, label='train')\n",
    "plt.plot(valid_loss, label='valid')\n",
    "plt.legend()\n",
    "plt.show()\n",
    "\n",
    "plt.figure(figsize=(7,5))\n",
    "plt.title('F1 Score')\n",
    "plt.plot(train_f1, label='train')\n",
    "plt.plot(valid_f1, label='valid')\n",
    "plt.legend()\n",
    "plt.show()\n",
    "\n",
    "print('Best F1 score ', max([[l['acc'], idx] for idx, l in enumerate(history['valid'])]))"
   ]
  },
  {
   "cell_type": "code",
   "execution_count": 69,
   "metadata": {},
   "outputs": [
    {
     "data": {
      "application/vnd.jupyter.widget-view+json": {
       "model_id": "246c7c1eacdb43f8bc25ad48eedf4567",
       "version_major": 2,
       "version_minor": 0
      },
      "text/plain": [
       "HBox(children=(IntProgress(value=0, description='Predict', max=4, style=ProgressStyle(description_width='initi…"
      ]
     },
     "metadata": {},
     "output_type": "display_data"
    },
    {
     "name": "stdout",
     "output_type": "stream",
     "text": [
      "\n"
     ]
    }
   ],
   "source": [
    "model.load_state_dict(torch.load('model/model.pkl.{}'.format(-1)))\n",
    "model.train(False)\n",
    "dataloader = DataLoader(dataset=testData,\n",
    "                            batch_size=32,\n",
    "                            shuffle=False,\n",
    "                            collate_fn=testData.collate_fn,\n",
    "                            num_workers=0)\n",
    "trange = tqdm(enumerate(dataloader), total=len(dataloader), desc='Predict')\n",
    "prediction = []\n",
    "true = []\n",
    "random_nums = []\n",
    "for i, (x, data_len, datas_idx) in trange:\n",
    "    o_labels = model(x.to(device), data_len = data_len,teacher_forcing_ratio = 0.0, training = False)\n",
    "    o_labels = torch.argmax(o_labels, dim = 2)\n",
    "    o_labels = o_labels.to('cpu').numpy().tolist()\n",
    "    for idx in datas_idx:\n",
    "        prediction.append(o_labels[idx])\n"
   ]
  },
  {
   "cell_type": "code",
   "execution_count": 70,
   "metadata": {},
   "outputs": [
    {
     "name": "stdout",
     "output_type": "stream",
     "text": [
      "[812, 6254, 812, 2142, 4727, 929, 6526, 980, 2639, 4229, 1540, 6263, 2782, 784, 2895, 2895, 2895, 2895, 2895, 2895, 2895, 2895, 2895, 2895]\n",
      "['<SOS>', '平', '檠', '平', '质', '蟑', '呜', '髀', '屡', '咽', '纽', '萝', '脹', '阱', '瓜', '桨', '桨', '桨', '桨', '桨', '桨', '桨', '桨', '桨', '桨']\n",
      "[3098, 2449, 6283, 3930, 6128, 4635, 2392, 6338, 2979, 2392, 2932, 4778, 2932, 3969, 4295, 125, 6352, 4145, 3715, 1431, 3262, 5006, 1197, 4104]\n",
      "['<SOS>', '婪', '盾', '钤', '罟', '貪', '娄', '官', '脍', '涡', '官', '赴', '堅', '赴', '蛟', '洮', '否', '簦', '璞', '豌', '抛', '婿', '驸', '广', '將']\n",
      "[4065, 5634, 5947, 1237, 5996, 2199, 139, 1777, 3522, 2928, 3262, 5006, 1197, 1077, 2505, 4509, 6367, 2505, 6532, 4326, 4778, 357, 3325, 129]\n",
      "['<SOS>', '歃', '廚', '闾', '形', '瘢', '绘', '集', '务', '佉', '仇', '婿', '驸', '广', '某', '薇', '婢', '駛', '薇', '捫', '疵', '堅', '抱', '婕', '转']\n",
      "[3098, 2017, 868, 4509, 1077, 129, 5290, 1266, 1266, 1266, 1266, 1266, 1266, 1266, 1266, 2047, 129, 5290, 1266, 1266, 1266, 1266, 1266, 1266]\n",
      "['<SOS>', '婪', '瀑', '节', '婢', '某', '转', '唬', '偎', '偎', '偎', '偎', '偎', '偎', '偎', '偎', '弹', '转', '唬', '偎', '偎', '偎', '偎', '偎', '偎']\n",
      "[4065, 3281, 2894, 1428, 3050, 4966, 3677, 2710, 5859, 2710, 3304, 4887, 3401, 3262, 3876, 2523, 4698, 678, 5290, 1266, 489, 5032, 5006, 3578]\n",
      "['<SOS>', '歃', '娜', '叭', '嘿', '耪', '讼', '颦', '斟', '迕', '斟', '談', '洼', '環', '婿', '敝', '挟', '罡', '恒', '唬', '偎', '诚', '痪', '驸', '鹿']\n",
      "[1509, 1266, 4621, 2285, 2285, 2285, 2285, 2285, 2285, 2285, 2285, 2285, 2285, 5303, 6525, 4011, 2627, 1891, 3304, 6305, 4380, 871, 38, 38]\n",
      "['<SOS>', '饺', '偎', '瑛', '準', '準', '準', '準', '準', '準', '準', '準', '準', '準', '潆', '逄', '撅', '勋', '梯', '談', '唞', '弊', '色', '<EOS>', '<EOS>']\n",
      "[3098, 3531, 4946, 4859, 5973, 3750, 3750, 3750, 3750, 3750, 3750, 3750, 3750, 3750, 3750, 3750, 3750, 3750, 3750, 3750, 3750, 3750, 3750, 2553]\n",
      "['<SOS>', '婪', '猩', '锉', '扦', '戸', '魅', '魅', '魅', '魅', '魅', '魅', '魅', '魅', '魅', '魅', '魅', '魅', '魅', '魅', '魅', '魅', '魅', '魅', '昌']\n",
      "[3517, 2003, 4217, 5027, 945, 3517, 3115, 5597, 3521, 4295, 125, 2505, 3564, 1782, 4339, 5473, 2431, 1909, 4509, 5949, 575, 2432, 1588, 369]\n",
      "['<SOS>', '阇', '各', '弓', '頂', '雪', '阇', '芮', '楬', '嚧', '洮', '否', '薇', '擎', '竹', '幢', '敵', '朱', '樂', '婢', '轳', '司', '钧', '郊', '求']\n",
      "[3716, 3228, 3228, 1551, 2316, 4366, 4994, 2523, 5151, 6072, 5538, 5639, 5932, 197, 5639, 5932, 4494, 4494, 573, 1854, 2830, 3857, 878, 4887]\n",
      "['<SOS>', '驷', '膨', '膨', '模', '羌', '厲', '佗', '挟', '鬧', '絨', '潋', '鸶', '杷', '只', '鸶', '杷', '沃', '沃', '郑', '瞑', '栏', '鞍', '陨', '洼']\n",
      "[3098, 3098, 3098, 659, 20, 385, 5007, 2945, 6571, 1837, 2104, 3115, 3937, 4681, 321, 2104, 1266, 1837, 1970, 4628, 2104, 3375, 38, 4509]\n",
      "['<SOS>', '婪', '婪', '婪', '今', '20', '听', '竺', '侥', '狒', '练', '牛', '芮', '烽', '偻', '自', '牛', '偎', '练', '献', '悭', '牛', '軟', '<EOS>', '婢']\n",
      "[722, 3911, 1333, 3298, 1843, 5655, 4550, 4358, 2622, 2792, 2996, 3088, 3301, 5757, 3872, 5105, 6305, 2523, 5854, 1056, 3578, 1083, 4873, 521]\n",
      "['<SOS>', '窗', '導', '足', '繼', '趟', '階', '崕', '虞', '璠', '垃', '丰', '嚎', '歷', '莛', '谍', '笳', '唞', '挟', '佇', '徨', '鹿', '式', '捨', '话']\n",
      "[3098, 3098, 3098, 5882, 2894, 2894, 1053, 3033, 1911, 4121, 2847, 4653, 38, 1056, 4380, 2442, 5290, 1266, 38, 1266, 1266, 1266, 1266, 2768]\n",
      "['<SOS>', '婪', '婪', '婪', '赈', '叭', '叭', '吗', '葛', '鋪', '粟', '啬', '晝', '<EOS>', '徨', '弊', '岖', '唬', '偎', '<EOS>', '偎', '偎', '偎', '偎', '襟']\n",
      "[4065, 3281, 2043, 2894, 2424, 3457, 347, 4522, 6455, 5300, 4509, 1254, 1452, 4295, 385, 4294, 4051, 5498, 33, 2932, 2349, 4495, 5644, 816]\n",
      "['<SOS>', '歃', '娜', '鸭', '叭', '睁', '蚁', '将', '喎', '損', '涎', '婢', '衍', '巷', '洮', '听', '陡', '弋', '寧', '思', '赴', '杆', '皎', '玠', '烂']\n",
      "[3098, 3098, 3098, 2890, 4635, 3785, 4635, 4635, 3824, 5722, 2094, 3572, 3572, 4373, 5300, 5300, 4509, 1254, 5329, 6487, 2540, 2636, 5006, 4104]\n",
      "['<SOS>', '婪', '婪', '婪', '驿', '娄', '窮', '娄', '娄', '掣', '苈', '稷', '觊', '觊', '網', '涎', '涎', '婢', '衍', '鹌', '湔', '奄', '鼻', '驸', '將']\n",
      "[1289, 2270, 2935, 3240, 1696, 2304, 5361, 2297, 2736, 4628, 5290, 38, 4509, 6367, 1183, 1588, 369, 2395, 3937, 38, 4509, 6367, 1183, 3494]\n",
      "['<SOS>', '遣', '經', '狡', '摞', '伞', '鎮', '睏', '換', '府', '悭', '唬', '<EOS>', '婢', '駛', '损', '郊', '求', '熱', '烽', '<EOS>', '婢', '駛', '损', '珀']\n",
      "[4065, 5634, 4688, 5998, 736, 4143, 5932, 736, 1600, 4828, 2895, 2895, 2895, 2895, 2895, 2895, 2895, 2895, 2895, 2895, 2895, 2895, 2895, 2895]\n",
      "['<SOS>', '歃', '廚', '鞠', '餤', '冷', '醇', '杷', '冷', '甚', '埠', '桨', '桨', '桨', '桨', '桨', '桨', '桨', '桨', '桨', '桨', '桨', '桨', '桨', '桨']\n",
      "[2631, 1885, 2028, 6128, 2098, 908, 4621, 5290, 1266, 1266, 1266, 2047, 5832, 2505, 736, 4509, 4682, 945, 5290, 1266, 1266, 38, 4509, 3301]\n",
      "['<SOS>', '跪', '財', '株', '貪', '妞', '伟', '瑛', '唬', '偎', '偎', '偎', '弹', '蛄', '薇', '冷', '婢', '舢', '雪', '唬', '偎', '偎', '<EOS>', '婢', '歷']\n",
      "[3098, 3098, 3098, 2326, 4352, 4653, 785, 6205, 4318, 2844, 5290, 1847, 4341, 1290, 4966, 4079, 2523, 1633, 6331, 2844, 5290, 1266, 1266, 1266]\n",
      "['<SOS>', '婪', '婪', '婪', '碑', '躬', '晝', '哎', '淸', '貨', '啜', '唬', '呦', '晦', '沸', '讼', '鴻', '挟', '躁', '溘', '啜', '唬', '偎', '偎', '偎']\n",
      "[3098, 251, 6222, 6134, 336, 2747, 4085, 2639, 153, 153, 153, 2523, 4341, 2395, 3937, 4681, 2409, 6485, 33, 4262, 3157, 5932, 3882, 4688]\n",
      "['<SOS>', '婪', '来', '揄', '挼', '体', '赌', '獸', '咽', '头', '头', '头', '挟', '晦', '熱', '烽', '偻', '矗', '扃', '思', '鹉', '愣', '杷', '稞', '鞠']\n",
      "[3098, 3849, 2284, 5300, 2284, 5602, 31, 4265, 1777, 6396, 6527, 5290, 38, 3503, 4509, 6367, 1183, 3494, 5225, 4638, 5863, 1608, 4293, 2566]\n",
      "['<SOS>', '婪', '芦', '誤', '涎', '誤', '慾', '挣', '绫', '务', '痼', '谳', '唬', '<EOS>', '娶', '婢', '駛', '损', '珀', '誌', '凊', '彖', '翘', '镰', '忐']\n",
      "[3098, 3928, 2894, 2894, 280, 3278, 5839, 2024, 1540, 4966, 4079, 2523, 678, 5431, 5290, 1266, 1266, 1266, 1266, 1266, 1266, 1266, 1266, 1266]\n",
      "['<SOS>', '婪', '鸾', '叭', '叭', '尝', '瞓', '嗲', '铅', '萝', '讼', '鴻', '挟', '恒', '權', '唬', '偎', '偎', '偎', '偎', '偎', '偎', '偎', '偎', '偎']\n",
      "[3098, 3098, 1521, 1053, 3572, 3297, 6017, 5225, 425, 1430, 2291, 552, 131, 96, 3106, 3578, 1909, 1909, 6540, 5955, 4509, 2305, 3784, 2644]\n",
      "['<SOS>', '婪', '婪', '鱼', '吗', '觊', '興', '艨', '誌', '出', '绣', '遙', '坐', '弯', '能', '嗟', '鹿', '樂', '樂', '傢', '峯', '婢', '逕', '園', '丈']\n",
      "[3098, 3098, 2890, 5911, 2262, 269, 3379, 3668, 1440, 1909, 4509, 1849, 153, 1183, 1909, 2905, 1739, 6485, 33, 1309, 5310, 3158, 3158, 4516]\n",
      "['<SOS>', '婪', '婪', '驿', '蕖', '貝', '喜', '揹', '戊', '票', '樂', '婢', '锄', '头', '损', '樂', '琐', '恨', '扃', '思', '糊', '榛', '妊', '妊', '槛']\n",
      "[4065, 2098, 4861, 6188, 5639, 2225, 5010, 5179, 5290, 4160, 5290, 1266, 5006, 4796, 4436, 4796, 4796, 3131, 612, 2672, 2047, 3937, 4681, 2523]\n",
      "['<SOS>', '歃', '妞', '堀', '穫', '鸶', '凤', '秉', '诊', '唬', '瑾', '唬', '偎', '驸', '觀', '卵', '觀', '觀', '岂', '靖', '笼', '弹', '烽', '偻', '挟']\n",
      "[1007, 6254, 4535, 2894, 5174, 6254, 1222, 38, 4509, 6367, 1183, 5377, 1197, 1061, 4233, 38, 4509, 6367, 1183, 5757, 1533, 5493, 5290, 1266]\n",
      "['<SOS>', '肯', '檠', '缆', '叭', '糇', '檠', '躺', '<EOS>', '婢', '駛', '损', '讚', '广', '铭', '槃', '<EOS>', '婢', '駛', '损', '莛', '港', '軽', '唬', '偎']\n",
      "[3098, 1497, 2121, 2894, 1428, 5464, 5290, 1266, 3297, 3803, 736, 4509, 2636, 2895, 2895, 2895, 2895, 2895, 2895, 2895, 2895, 2895, 2895, 2895]\n",
      "['<SOS>', '婪', '腌', '亭', '叭', '嘿', '灞', '唬', '偎', '興', '冚', '冷', '婢', '鼻', '桨', '桨', '桨', '桨', '桨', '桨', '桨', '桨', '桨', '桨', '桨']\n",
      "[3098, 1011, 5826, 5826, 736, 2017, 2894, 1428, 38, 4908, 4908, 4628, 5773, 4509, 2305, 2104, 3115, 5597, 5973, 288, 288, 3208, 1179, 5493]\n",
      "['<SOS>', '婪', '装', '迩', '迩', '冷', '瀑', '叭', '嘿', '<EOS>', '犍', '犍', '悭', '淪', '婢', '逕', '牛', '芮', '楬', '戸', '滴', '滴', '酥', '占', '軽']\n",
      "[6172, 6207, 1019, 3110, 2024, 5434, 2935, 5509, 1460, 1909, 980, 4229, 1540, 4229, 6263, 4207, 5509, 4058, 1909, 5425, 2505, 4412, 4509, 3301]\n",
      "['<SOS>', '嚅', '枊', '携', '姿', '铅', '膚', '狡', '骃', '恭', '樂', '屡', '纽', '萝', '纽', '脹', '筵', '骃', '沓', '樂', '焊', '薇', '诩', '婢', '歷']\n",
      "[3098, 3098, 3098, 3098, 2326, 3625, 4263, 4621, 5354, 4262, 971, 2971, 4495, 357, 3948, 1266, 1266, 1266, 1266, 1266, 1266, 1266, 1266, 4628]\n",
      "['<SOS>', '婪', '婪', '婪', '婪', '碑', '楂', '葫', '瑛', '瘴', '鹉', '喊', '爲', '皎', '抱', '舅', '偎', '偎', '偎', '偎', '偎', '偎', '偎', '偎', '悭']\n",
      "[3098, 3098, 2890, 4452, 908, 4635, 4966, 2436, 133, 6165, 4505, 3882, 5300, 5300, 1722, 4766, 1197, 5059, 4207, 3615, 6523, 91, 1811, 6017]\n"
     ]
    },
    {
     "name": "stdout",
     "output_type": "stream",
     "text": [
      "['<SOS>', '婪', '婪', '驿', '缉', '伟', '娄', '讼', '苏', '见', '葭', '煳', '稞', '涎', '涎', '桠', '撜', '广', '缲', '筵', '傾', '螣', '先', '屈', '艨']\n",
      "[3098, 3098, 3098, 945, 3015, 2297, 945, 5290, 1782, 4339, 5437, 4894, 3331, 1037, 2736, 5300, 5773, 5256, 4966, 2736, 3647, 4966, 2199, 4966]\n",
      "['<SOS>', '婪', '婪', '婪', '雪', '屎', '換', '雪', '唬', '竹', '幢', '辯', '箔', '锦', '演', '府', '涎', '淪', '棣', '讼', '府', '陰', '讼', '绘', '讼']\n",
      "[722, 59, 4861, 304, 1179, 392, 392, 392, 2349, 2349, 2349, 3301, 5290, 1266, 1266, 1266, 1266, 1266, 3602, 678, 6008, 1909, 4509, 2305]\n",
      "['<SOS>', '窗', '隔', '堀', '荷', '占', '障', '障', '障', '杆', '杆', '杆', '歷', '唬', '偎', '偎', '偎', '偎', '偎', '聽', '恒', '鳔', '樂', '婢', '逕']\n",
      "[3098, 1011, 36, 6165, 2584, 4573, 4573, 4989, 3625, 3304, 2736, 1739, 6485, 33, 33, 3821, 5757, 5006, 422, 33, 5395, 3495, 2658, 2753]\n",
      "['<SOS>', '婪', '装', '囚', '葭', '缪', '诲', '诲', '偋', '楂', '談', '府', '恨', '扃', '思', '思', '語', '莛', '驸', '界', '思', '鲶', '邀', '炎', '莲']\n",
      "[3098, 4614, 3098, 5133, 131, 3250, 5607, 1909, 2736, 5300, 3050, 5345, 1671, 3521, 4294, 2792, 321, 2104, 3115, 5006, 422, 4509, 6367, 3107]\n",
      "['<SOS>', '婪', '禹', '婪', '煩', '弯', '锤', '巣', '樂', '府', '涎', '耪', '粵', '崩', '嚧', '陡', '垃', '自', '牛', '芮', '驸', '界', '婢', '駛', '霖']\n",
      "[3377, 3149, 5701, 5146, 2558, 1909, 980, 4229, 2844, 427, 3301, 986, 5805, 4509, 153, 153, 1183, 1909, 2905, 1739, 6485, 33, 1721, 464]\n",
      "['<SOS>', '貼', '桶', '溏', '艷', '宜', '樂', '屡', '纽', '啜', '处', '歷', '赏', '侶', '婢', '头', '头', '损', '樂', '琐', '恨', '扃', '思', '枝', '祝']\n",
      "[1011, 2292, 736, 2017, 278, 2654, 4795, 4653, 1497, 2996, 1807, 3803, 4380, 4681, 6463, 2523, 4698, 2431, 3107, 3092, 2047, 1849, 6305, 2523]\n",
      "['<SOS>', '装', '達', '冷', '瀑', '坎', '谦', '爛', '晝', '腌', '丰', '韵', '冚', '弊', '偻', '霂', '挟', '罡', '朱', '霖', '憬', '弹', '锄', '唞', '挟']\n",
      "[3098, 3240, 3165, 1146, 1722, 4766, 1197, 6251, 2979, 38, 4509, 3301, 1149, 135, 2799, 6043, 565, 38, 4509, 6367, 1183, 5757, 2033, 2509]\n",
      "['<SOS>', '婪', '摞', '疙', '况', '桠', '撜', '广', '籠', '涡', '<EOS>', '婢', '歷', '擦', '影', '忸', '噁', '漠', '<EOS>', '婢', '駛', '损', '莛', '涨', '项']\n",
      "[3098, 3849, 1746, 5651, 2873, 5300, 5550, 945, 5290, 4466, 4681, 4455, 2371, 4509, 3253, 369, 5116, 2797, 4295, 269, 2932, 2932, 2349, 5010]\n",
      "['<SOS>', '婪', '芦', '判', '転', '拐', '涎', '噔', '雪', '唬', '蹟', '偻', '缄', '哲', '婢', '垫', '求', '層', '啸', '洮', '喜', '赴', '赴', '杆', '秉']\n",
      "[1011, 1251, 2392, 2561, 5624, 419, 5615, 4998, 5639, 3107, 1004, 5639, 2736, 1879, 198, 738, 4573, 5196, 5196, 2932, 38, 38, 4509, 6367]\n",
      "['<SOS>', '装', '颜', '官', '荃', '轼', '早', '潤', '邬', '鸶', '霖', '恕', '鸶', '府', '獎', '此', '岛', '诲', '嗝', '嗝', '赴', '<EOS>', '<EOS>', '婢', '駛']\n",
      "[4065, 2894, 3038, 2424, 5698, 4651, 1693, 1809, 3549, 3664, 4688, 1533, 3331, 6532, 4241, 6305, 2523, 4341, 2395, 3623, 5264, 2523, 2395, 1649]\n",
      "['<SOS>', '歃', '叭', '揣', '睁', '闰', '悅', '达', '凄', '仕', '仆', '鞠', '港', '锦', '捫', '裸', '唞', '挟', '晦', '熱', '灑', '腩', '挟', '熱', '卑']\n",
      "[3098, 736, 1746, 1746, 2104, 3115, 5006, 1197, 4104, 2800, 4436, 5695, 4104, 2800, 4436, 129, 5290, 1266, 1266, 1266, 1266, 1266, 1266, 1266]\n",
      "['<SOS>', '婪', '冷', '判', '判', '牛', '芮', '驸', '广', '將', '怩', '卵', '喍', '將', '怩', '卵', '转', '唬', '偎', '偎', '偎', '偎', '偎', '偎', '偎']\n",
      "[3377, 785, 5998, 3262, 2523, 4698, 678, 5290, 1266, 2491, 1122, 966, 5295, 1197, 4104, 2800, 4436, 5695, 4638, 3581, 482, 1197, 5300, 1474]\n",
      "['<SOS>', '貼', '哎', '餤', '婿', '挟', '罡', '恒', '唬', '偎', '哑', '备', '贴', '骼', '广', '將', '怩', '卵', '喍', '凊', '盡', '论', '广', '涎', '鸽']\n",
      "[3098, 164, 3522, 4635, 4784, 1540, 945, 5290, 38, 4509, 1222, 6473, 2511, 794, 5437, 4894, 422, 5827, 2509, 5300, 1474, 2371, 4509, 5571]\n",
      "['<SOS>', '婪', '肩', '佉', '娄', '賣', '萝', '雪', '唬', '<EOS>', '婢', '躺', '愐', '贾', '罕', '辯', '箔', '界', '颃', '项', '涎', '鸽', '哲', '婢', '嚇']\n",
      "[3098, 5882, 2894, 2894, 1428, 5454, 1852, 2511, 1669, 2523, 5010, 2523, 4698, 4234, 2966, 3937, 4681, 2754, 3304, 2161, 5304, 4380, 2291, 5859]\n",
      "['<SOS>', '婪', '赈', '叭', '叭', '嘿', '堰', '皆', '贾', '耍', '挟', '秉', '挟', '罡', '庇', '宸', '烽', '偻', '蓬', '談', '产', '洄', '弊', '遙', '迕']\n",
      "[1289, 4946, 516, 3956, 2736, 4234, 4234, 4966, 5573, 2776, 1144, 5965, 4161, 2890, 5219, 6304, 6427, 4974, 2234, 1715, 4688, 3318, 2736, 5300]\n",
      "['<SOS>', '遣', '锉', '凉', '費', '府', '庇', '庇', '讼', '骰', '怂', '房', '瀣', '瓮', '驿', '唰', '缶', '遷', '翺', '祥', '俾', '鞠', '臃', '府', '涎']\n",
      "[3098, 3098, 6511, 2523, 4698, 5300, 5550, 2966, 3262, 2161, 4234, 3331, 2718, 3157, 6223, 1146, 4802, 2467, 1105, 38, 1056, 4380, 565, 38]\n",
      "['<SOS>', '婪', '婪', '擘', '挟', '罡', '涎', '噔', '宸', '婿', '产', '庇', '锦', '伽', '愣', '噱', '况', '椤', '素', '羊', '<EOS>', '徨', '弊', '漠', '<EOS>']\n",
      "[4065, 6035, 5760, 712, 4760, 5757, 6263, 236, 1909, 2736, 4628, 2971, 1749, 5010, 5611, 5805, 5159, 2327, 4380, 2291, 169, 6463, 454, 5010]\n",
      "['<SOS>', '歃', '臍', '駝', '赠', '婧', '莛', '脹', '乐', '樂', '府', '悭', '爲', '赎', '秉', '吺', '侶', '钶', '秃', '弊', '遙', '齐', '霂', '言', '秉']\n",
      "[722, 2617, 530, 2894, 2213, 2394, 1909, 2736, 5300, 5300, 5550, 4908, 5006, 2997, 1305, 1909, 4219, 2540, 4698, 2523, 4698, 4402, 5233, 5621]\n",
      "['<SOS>', '窗', '读', '够', '叭', '渺', '燙', '樂', '府', '涎', '涎', '噔', '犍', '驸', '员', '碗', '樂', '腥', '奄', '罡', '挟', '罡', '躏', '碼', '倫']\n",
      "[3098, 3098, 2804, 4621, 1335, 736, 4104, 2932, 4827, 530, 1782, 1782, 1782, 2395, 6223, 945, 5290, 2047, 4455, 2431, 5061, 1513, 485, 1149]\n",
      "['<SOS>', '婪', '婪', '涵', '瑛', '嗜', '冷', '將', '赴', '蚌', '够', '竹', '竹', '竹', '熱', '噱', '雪', '唬', '弹', '缄', '朱', '魍', '艺', '世', '擦']\n",
      "[3098, 5882, 2649, 2443, 3666, 2318, 678, 3580, 3115, 3446, 5931, 5006, 1197, 4104, 6305, 816, 5498, 2714, 2932, 1948, 2523, 4698, 678, 5290]\n",
      "['<SOS>', '婪', '赈', '旦', '绩', '颈', '嗅', '恒', '巅', '芮', '踵', '氰', '驸', '广', '將', '唞', '烂', '寧', '簡', '赴', '繽', '挟', '罡', '恒', '唬']\n",
      "[3098, 3653, 2890, 4635, 3824, 2297, 2347, 1681, 2857, 1179, 1179, 4509, 5897, 1672, 2104, 3115, 5006, 422, 33, 4828, 3623, 6413, 2395, 5677]\n",
      "['<SOS>', '婪', '純', '驿', '娄', '掣', '換', '厅', '违', '窃', '占', '占', '婢', '钏', '溃', '牛', '芮', '驸', '界', '思', '埠', '灑', '爻', '熱', '嚡']\n",
      "[3098, 5882, 2894, 2894, 3582, 1551, 482, 369, 5290, 38, 3503, 4509, 6463, 5032, 2090, 1217, 1406, 1183, 3494, 1336, 3494, 2684, 4655, 4509]\n",
      "['<SOS>', '婪', '赈', '叭', '叭', '單', '模', '论', '求', '唬', '<EOS>', '娶', '婢', '霂', '痪', '飚', '丁', '拿', '损', '珀', '助', '珀', '嗰', '颉', '婢']\n",
      "[3098, 1011, 5826, 5826, 4550, 84, 5300, 5509, 4741, 2376, 4143, 2792, 2996, 1546, 759, 1311, 4410, 1713, 4454, 422, 5300, 678, 5431, 5290]\n",
      "['<SOS>', '婪', '装', '迩', '迩', '崕', '系', '涎', '骃', '浦', '谣', '醇', '垃', '丰', '馋', '忍', '物', '晌', '夙', '飒', '界', '涎', '恒', '權', '唬']\n",
      "[3098, 3098, 3098, 6482, 5554, 3096, 2639, 4628, 2970, 5300, 2710, 5859, 2710, 3304, 54, 2226, 3549, 984, 2094, 5290, 2509, 3952, 945, 5375]\n",
      "['<SOS>', '婪', '婪', '婪', '廈', '葶', '湛', '咽', '悭', '伫', '涎', '斟', '迕', '斟', '談', '依', '杰', '仕', '证', '稷', '唬', '项', '瑪', '雪', '綢']\n",
      "[4065, 5078, 5515, 1899, 4405, 4974, 153, 2523, 1056, 4940, 1909, 6502, 1909, 980, 2639, 3595, 2993, 6317, 357, 2830, 218, 4628, 2971, 5629]\n",
      "['<SOS>', '歃', '耦', '註', '貴', '鳌', '翺', '头', '挟', '徨', '鳅', '樂', '蝟', '樂', '屡', '咽', '蹤', '策', '滓', '抱', '栏', '分', '悭', '爲', '曆']\n",
      "[5615, 6134, 162, 561, 153, 2711, 2971, 2932, 2932, 6499, 3764, 3301, 2792, 3615, 6523, 611, 6523, 1533, 1533, 2997, 2094, 5133, 38, 33]\n",
      "['<SOS>', '潤', '挼', '铜', '印', '头', '捡', '爲', '赴', '赴', '趵', '丞', '歷', '垃', '傾', '螣', '赵', '螣', '港', '港', '员', '稷', '煩', '<EOS>', '思']\n",
      "[4065, 1574, 4880, 100, 3033, 5757, 1722, 6116, 945, 1879, 3115, 5597, 3521, 4295, 3115, 46, 2736, 4628, 1236, 5290, 38, 38, 4509, 6463]\n",
      "['<SOS>', '歃', '浊', '戎', '带', '葛', '莛', '桠', '繞', '雪', '獎', '芮', '楬', '嚧', '洮', '芮', '行', '府', '悭', '茶', '唬', '<EOS>', '<EOS>', '婢', '霂']\n",
      "[3098, 3098, 3098, 3098, 3098, 3653, 5300, 5300, 2710, 5859, 2710, 5006, 2876, 2876, 1777, 5494, 5494, 4880, 2602, 1095, 5295, 1266, 1266, 2369]\n",
      "['<SOS>', '婪', '婪', '婪', '婪', '婪', '純', '涎', '涎', '斟', '迕', '斟', '驸', '褒', '褒', '务', '詰', '詰', '戎', '囊', '憾', '骼', '偎', '偎', '翩']\n",
      "[3098, 2017, 4509, 4766, 5351, 1197, 4966, 4509, 129, 3356, 1266, 1266, 1266, 1266, 1266, 1266, 1266, 1266, 1266, 1266, 1266, 1266, 1266, 1266]\n",
      "['<SOS>', '婪', '瀑', '婢', '撜', '骐', '广', '讼', '婢', '转', '颖', '偎', '偎', '偎', '偎', '偎', '偎', '偎', '偎', '偎', '偎', '偎', '偎', '偎', '偎']\n",
      "[4065, 5795, 4717, 1777, 2448, 1777, 1777, 2448, 1777, 4104, 5520, 5520, 5520, 5520, 5520, 5520, 5520, 3124, 2548, 4873, 3974, 83, 83, 83]\n"
     ]
    },
    {
     "name": "stdout",
     "output_type": "stream",
     "text": [
      "['<SOS>', '歃', '簪', '晏', '务', '矛', '务', '务', '矛', '务', '將', '孀', '孀', '孀', '孀', '孀', '孀', '孀', '附', '琪', '捨', '瘟', '关', '关', '关']\n",
      "[4065, 5027, 2443, 269, 1088, 2044, 4234, 5396, 2250, 1443, 2991, 153, 2523, 318, 5300, 5300, 5550, 5381, 4206, 4295, 4168, 2945, 1055, 3363]\n",
      "['<SOS>', '歃', '頂', '绩', '喜', '锁', '苑', '庇', '鳃', '谴', '饱', '帅', '头', '挟', '痴', '涎', '涎', '噔', '蜥', '糙', '洮', '嗣', '侥', '彷', '種']\n",
      "[3098, 5882, 131, 678, 4509, 6367, 2044, 4234, 3677, 5104, 4509, 730, 730, 730, 5773, 5116, 4894, 1266, 1266, 1266, 2749, 5632, 2371, 4509]\n",
      "['<SOS>', '婪', '赈', '弯', '恒', '婢', '駛', '苑', '庇', '颦', '芋', '婢', '曙', '曙', '曙', '淪', '層', '箔', '偎', '偎', '偎', '宫', '辍', '哲', '婢']\n",
      "[4065, 6385, 3110, 4614, 4573, 4614, 4573, 4573, 3875, 5300, 5773, 1018, 2736, 837, 71, 1672, 5644, 3262, 4380, 1208, 695, 4966, 3677, 5536]\n",
      "['<SOS>', '歃', '尐', '姿', '禹', '诲', '禹', '诲', '诲', '窦', '涎', '淪', '众', '府', '拖', '底', '溃', '玠', '婿', '弊', '竭', '脆', '讼', '颦', '鸪']\n",
      "[3098, 3098, 3098, 3098, 5466, 131, 866, 5457, 5730, 2804, 2804, 3115, 5006, 3757, 989, 1290, 5564, 291, 4908, 6526, 936, 5607, 2736, 5290]\n",
      "['<SOS>', '婪', '婪', '婪', '婪', '醪', '弯', '阴', '庵', '荤', '涵', '涵', '芮', '驸', '窿', '假', '沸', '窠', '苦', '犍', '髀', '汹', '巣', '府', '唬']\n",
      "[3098, 251, 3526, 36, 3710, 4295, 5304, 4436, 586, 2376, 5805, 5159, 6571, 5290, 5010, 1149, 135, 2505, 4509, 1149, 135, 2505, 4509, 3784]\n",
      "['<SOS>', '婪', '来', '歧', '囚', '捣', '洮', '洄', '卵', '师', '谣', '侶', '钶', '狒', '唬', '秉', '擦', '影', '薇', '婢', '擦', '影', '薇', '婢', '園']\n",
      "[3098, 3098, 3098, 2804, 5051, 1600, 1649, 3930, 1669, 3115, 3446, 1827, 5571, 2462, 1811, 5554, 4145, 1782, 6571, 5290, 5639, 1233, 6125, 1056]\n",
      "['<SOS>', '婪', '婪', '婪', '涵', '谲', '甚', '卑', '罟', '耍', '芮', '踵', '含', '嚇', '哽', '屈', '葶', '璞', '竹', '狒', '唬', '鸶', '喝', '醫', '徨']\n",
      "[3098, 3098, 5466, 3911, 2894, 4669, 5611, 6560, 3647, 65, 4014, 3685, 33, 4828, 1113, 5350, 4628, 3567, 291, 4878, 4121, 2589, 3937, 2347]\n",
      "['<SOS>', '婪', '婪', '醪', '導', '叭', '蹋', '吺', '莒', '陰', '湿', '匡', '據', '思', '埠', '希', '暹', '悭', '忡', '苦', '卺', '粟', '聋', '烽', '厅']\n",
      "[3098, 3098, 3098, 3531, 6319, 6119, 3098, 3098, 3098, 2853, 4599, 2348, 3520, 5300, 3520, 5300, 1206, 5927, 936, 5006, 1197, 5216, 5116, 6306]\n",
      "['<SOS>', '婪', '婪', '婪', '猩', '乂', '濯', '婪', '婪', '婪', '辉', '玖', '桅', '娑', '涎', '娑', '涎', '芬', '殄', '汹', '驸', '广', '薮', '層', '悕']\n",
      "[3098, 2890, 4635, 3785, 2942, 5300, 2710, 1782, 2395, 5006, 4104, 4908, 2800, 3685, 4509, 6367, 5724, 2044, 2297, 6414, 3875, 4305, 3882, 5309]\n",
      "['<SOS>', '婪', '驿', '娄', '窮', '查', '涎', '斟', '竹', '熱', '驸', '將', '犍', '怩', '據', '婢', '駛', '窣', '苑', '換', '鑲', '窦', '虧', '稞', '莼']\n",
      "[3098, 3098, 3098, 2890, 164, 1451, 3930, 2996, 1588, 1551, 6408, 4628, 2371, 4509, 5571, 3615, 6523, 4380, 4681, 4779, 491, 3715, 3578, 5300]\n",
      "['<SOS>', '婪', '婪', '婪', '驿', '肩', '锵', '罟', '丰', '郊', '模', '誼', '悭', '哲', '婢', '嚇', '傾', '螣', '弊', '偻', '拴', '堂', '豌', '鹿', '涎']\n",
      "[3098, 3098, 3250, 3731, 1907, 5859, 2710, 83, 3937, 4681, 2349, 5010, 2523, 1649, 871, 38, 1056, 3699, 3699, 2349, 1431, 2104, 1266, 1266]\n",
      "['<SOS>', '婪', '婪', '锤', '続', '愛', '迕', '斟', '关', '烽', '偻', '杆', '秉', '挟', '卑', '色', '<EOS>', '徨', '厢', '厢', '杆', '抛', '牛', '偎', '偎']\n",
      "[3098, 1509, 659, 5996, 736, 2017, 2894, 2291, 5859, 2710, 3304, 83, 2997, 1917, 2762, 4455, 2371, 4509, 6463, 1077, 5859, 2710, 83, 3937]\n",
      "['<SOS>', '婪', '饺', '今', '瘢', '冷', '瀑', '叭', '遙', '迕', '斟', '談', '关', '员', '預', '蛹', '缄', '哲', '婢', '霂', '某', '迕', '斟', '关', '烽']\n",
      "[3098, 3098, 3098, 3098, 4633, 736, 5300, 5300, 750, 945, 5290, 1266, 6305, 3274, 4143, 5932, 736, 5321, 4295, 2435, 5733, 6485, 33, 4828]\n",
      "['<SOS>', '婪', '婪', '婪', '婪', '炭', '冷', '涎', '涎', '魄', '雪', '唬', '偎', '唞', '嗻', '醇', '杷', '冷', '虿', '洮', '债', '丅', '扃', '思', '埠']\n",
      "[6254, 2003, 6241, 1518, 5437, 4894, 1817, 1588, 369, 2395, 3937, 4681, 2754, 3304, 1149, 5079, 6172, 3615, 5827, 2913, 4265, 4265, 1540, 2395]\n",
      "['<SOS>', '檠', '各', '绡', '煲', '辯', '箔', '泉', '郊', '求', '熱', '烽', '偻', '蓬', '談', '擦', '蜊', '嚅', '傾', '颃', '儒', '绫', '绫', '萝', '熱']\n",
      "[3098, 3098, 3098, 3098, 5826, 5826, 736, 3520, 2650, 4628, 5773, 5256, 5151, 4514, 1518, 4682, 321, 2104, 1266, 38, 1056, 4380, 4061, 1197]\n",
      "['<SOS>', '婪', '婪', '婪', '婪', '迩', '迩', '冷', '娑', '歉', '悭', '淪', '棣', '鬧', '涕', '煲', '舢', '自', '牛', '偎', '<EOS>', '徨', '弊', '蕾', '广']\n",
      "[4065, 5078, 4196, 4509, 6367, 2672, 6140, 3321, 5677, 2094, 100, 1981, 4219, 1817, 4653, 1149, 5079, 6172, 5290, 1266, 1266, 1266, 4453, 6560]\n",
      "['<SOS>', '歃', '耦', '炬', '婢', '駛', '笼', '佫', '宅', '嚡', '稷', '带', '纪', '腥', '泉', '晝', '擦', '蜊', '嚅', '唬', '偎', '偎', '偎', '绮', '莒']\n",
      "[3377, 3012, 5037, 3517, 2894, 5174, 1430, 575, 1028, 4358, 4055, 4966, 3677, 4573, 5757, 1743, 2304, 5757, 3567, 4410, 1713, 4732, 5395, 3161]\n",
      "['<SOS>', '貼', '劫', '燧', '阇', '叭', '糇', '绣', '司', '牌', '虞', '姚', '讼', '颦', '诲', '莛', '枕', '鎮', '莛', '忡', '晌', '夙', '绛', '鲶', '泾']\n",
      "[1007, 2894, 2213, 2394, 6124, 3915, 1183, 1107, 945, 5290, 1266, 38, 4509, 6367, 3107, 3092, 4994, 1811, 1183, 1879, 5300, 5300, 3206, 3578]\n",
      "['<SOS>', '肯', '叭', '渺', '燙', '聰', '側', '损', '骄', '雪', '唬', '偎', '<EOS>', '婢', '駛', '霖', '憬', '佗', '屈', '损', '獎', '涎', '涎', '碾', '鹿']\n",
      "[3098, 3098, 3250, 3731, 1907, 5859, 2710, 83, 3937, 4681, 2349, 5010, 2523, 1649, 871, 38, 1056, 3699, 3699, 2349, 1431, 2104, 1266, 1266]\n",
      "['<SOS>', '婪', '婪', '锤', '続', '愛', '迕', '斟', '关', '烽', '偻', '杆', '秉', '挟', '卑', '色', '<EOS>', '徨', '厢', '厢', '杆', '抛', '牛', '偎', '偎']\n",
      "[3098, 3377, 6254, 2443, 3817, 4550, 5300, 5300, 6571, 2714, 1741, 5290, 945, 5290, 1266, 38, 4509, 3301, 5290, 1266, 38, 4509, 3301, 5290]\n",
      "['<SOS>', '婪', '貼', '檠', '绩', '並', '崕', '涎', '涎', '狒', '簡', '恩', '唬', '雪', '唬', '偎', '<EOS>', '婢', '歷', '唬', '偎', '<EOS>', '婢', '歷', '唬']\n",
      "[3098, 1509, 1693, 3540, 1777, 5300, 4294, 3050, 4885, 5300, 5196, 4294, 6550, 6560, 2157, 314, 2104, 1266, 1266, 1266, 1266, 1266, 1266, 1266]\n",
      "['<SOS>', '婪', '饺', '达', '蹁', '务', '涎', '陡', '耪', '優', '涎', '嗝', '陡', '聼', '莒', '咱', '管', '牛', '偎', '偎', '偎', '偎', '偎', '偎', '偎']\n",
      "[3098, 2326, 310, 3765, 5826, 5826, 4653, 4653, 785, 4758, 5932, 3882, 5300, 5300, 6571, 1518, 5437, 5196, 2932, 2932, 3821, 5290, 1266, 1266]\n",
      "['<SOS>', '婪', '碑', '又', '橙', '迩', '迩', '晝', '晝', '哎', '闳', '杷', '稞', '涎', '涎', '狒', '煲', '辯', '嗝', '赴', '赴', '語', '唬', '偎', '偎']\n",
      "[2537, 4295, 1007, 2121, 4509, 3253, 3783, 5300, 5300, 5550, 5381, 4509, 3731, 6327, 1782, 4294, 1208, 695, 5010, 1149, 135, 1246, 2523, 4698]\n",
      "['<SOS>', '雁', '洮', '肯', '亭', '婢', '垫', '啟', '涎', '涎', '噔', '蜥', '婢', '続', '殻', '竹', '陡', '竭', '脆', '秉', '擦', '影', '陷', '挟', '罡']\n",
      "[3098, 3098, 3098, 3098, 5466, 131, 866, 3115, 1504, 3356, 1567, 1567, 1567, 1567, 1567, 1567, 1567, 1567, 1567, 1567, 1567, 4195, 5639, 6331]\n",
      "['<SOS>', '婪', '婪', '婪', '婪', '醪', '弯', '阴', '芮', '端', '颖', '烙', '烙', '烙', '烙', '烙', '烙', '烙', '烙', '烙', '烙', '烙', '沛', '鸶', '溘']\n",
      "[3098, 2894, 1053, 3029, 2894, 6296, 4966, 1551, 6490, 5659, 2291, 169, 38, 3578, 1909, 3882, 5300, 5300, 1776, 2021, 3026, 5427, 5113, 2094]\n",
      "['<SOS>', '婪', '叭', '吗', '撰', '叭', '廻', '讼', '模', '辋', '戮', '遙', '齐', '<EOS>', '鹿', '樂', '稞', '涎', '涎', '订', '扫', '术', '炀', '咻', '稷']\n",
      "[5545, 177, 6471, 2216, 2894, 1107, 3549, 4352, 2044, 3246, 4341, 79, 2395, 3937, 4681, 2549, 5667, 1257, 1743, 5079, 2357, 2996, 5219, 5290]\n",
      "['<SOS>', '皦', '鬼', '狍', '揉', '叭', '骄', '仕', '躬', '苑', '糗', '晦', '少', '熱', '烽', '偻', '嬅', '蔺', '喂', '枕', '蜊', '役', '丰', '唰', '唬']\n",
      "[3098, 3531, 3809, 4859, 2823, 2634, 2884, 1533, 810, 4104, 4241, 6482, 2792, 2996, 1546, 3784, 1551, 5540, 291, 6525, 2932, 3474, 3331, 3122]\n",
      "['<SOS>', '婪', '猩', '洱', '扦', '桩', '噬', '阙', '港', '犹', '將', '裸', '廈', '垃', '丰', '馋', '園', '模', '菸', '苦', '逄', '赴', '曹', '锦', '恙']\n",
      "[3098, 3098, 3098, 3098, 4633, 736, 5300, 5300, 750, 945, 5290, 1266, 6305, 3274, 4143, 5932, 736, 5321, 4295, 2435, 5733, 6485, 33, 4828]\n",
      "['<SOS>', '婪', '婪', '婪', '婪', '炭', '冷', '涎', '涎', '魄', '雪', '唬', '偎', '唞', '嗻', '醇', '杷', '冷', '虿', '洮', '债', '丅', '扃', '思', '埠']\n",
      "[3098, 3098, 3250, 2584, 3098, 3098, 3098, 802, 5859, 2710, 5300, 2710, 5859, 2710, 83, 4688, 1533, 2094, 5290, 2509, 3952, 5006, 6389, 3882]\n",
      "['<SOS>', '婪', '婪', '锤', '缪', '婪', '婪', '婪', '惯', '迕', '斟', '涎', '斟', '迕', '斟', '关', '鞠', '港', '稷', '唬', '项', '瑪', '驸', '亥', '稞']\n",
      "[3098, 2017, 868, 3379, 2509, 6024, 5300, 4509, 129, 3356, 5010, 1743, 4628, 4509, 3301, 1149, 135, 2505, 4509, 6367, 3107, 4710, 2509, 5300]\n"
     ]
    },
    {
     "name": "stdout",
     "output_type": "stream",
     "text": [
      "['<SOS>', '婪', '瀑', '节', '揹', '项', '豬', '涎', '婢', '转', '颖', '秉', '枕', '悭', '婢', '歷', '擦', '影', '薇', '婢', '駛', '霖', '柩', '项', '涎']\n",
      "[3098, 3098, 3098, 4206, 1011, 5826, 5826, 5826, 1053, 3033, 135, 1208, 2151, 5859, 5300, 4412, 4104, 153, 2104, 1266, 1266, 1266, 1266, 4379]\n",
      "['<SOS>', '婪', '婪', '婪', '糙', '装', '迩', '迩', '迩', '吗', '葛', '影', '竭', '堆', '迕', '涎', '诩', '將', '头', '牛', '偎', '偎', '偎', '偎', '磋']\n",
      "[3098, 3098, 3098, 2890, 4635, 3785, 2932, 2710, 3304, 3620, 2523, 4341, 2395, 3937, 4681, 2349, 5010, 2523, 4698, 678, 5290, 1266, 489, 1970]\n",
      "['<SOS>', '婪', '婪', '婪', '驿', '娄', '窮', '赴', '斟', '談', '儘', '挟', '晦', '熱', '烽', '偻', '杆', '秉', '挟', '罡', '恒', '唬', '偎', '诚', '献']\n",
      "[3098, 6122, 131, 3250, 3710, 4885, 5300, 5300, 4667, 1730, 3331, 4455, 3304, 54, 5483, 3710, 2099, 4436, 1722, 1981, 1120, 2505, 6532, 6263]\n",
      "['<SOS>', '婪', '腚', '弯', '锤', '捣', '優', '涎', '涎', '呒', '攀', '锦', '缄', '談', '依', '糌', '捣', '玄', '卵', '桠', '纪', '度', '薇', '捫', '脹']\n",
      "[1007, 2894, 2213, 2394, 6124, 3915, 1183, 1107, 945, 5290, 1266, 38, 4509, 6367, 3107, 3092, 4994, 1811, 1183, 1879, 5300, 5300, 3206, 3578]\n",
      "['<SOS>', '肯', '叭', '渺', '燙', '聰', '側', '损', '骄', '雪', '唬', '偎', '<EOS>', '婢', '駛', '霖', '憬', '佗', '屈', '损', '獎', '涎', '涎', '碾', '鹿']\n",
      "[3098, 3098, 3098, 4653, 785, 736, 4104, 3250, 5425, 2028, 1559, 4377, 482, 369, 38, 4509, 3301, 5290, 38, 3503, 4509, 6367, 1183, 417]\n",
      "['<SOS>', '婪', '婪', '婪', '晝', '哎', '冷', '將', '锤', '焊', '株', '扛', '盃', '论', '求', '<EOS>', '婢', '歷', '唬', '<EOS>', '娶', '婢', '駛', '损', '优']\n",
      "[2017, 1011, 5826, 6165, 4573, 2028, 5925, 3578, 2505, 4509, 6367, 3107, 4710, 2509, 5300, 4509, 5097, 5571, 38, 198, 5920, 5644, 4112, 321]\n",
      "['<SOS>', '瀑', '装', '迩', '葭', '诲', '株', '楊', '鹿', '薇', '婢', '駛', '霖', '柩', '项', '涎', '婢', '謦', '嚇', '<EOS>', '此', '頹', '玠', '乳', '自']\n",
      "[3098, 3098, 3098, 736, 3520, 5300, 5773, 4509, 4966, 2736, 5300, 5300, 5196, 4294, 4966, 5300, 5300, 6504, 38, 4509, 6367, 2377, 5300, 5300]\n",
      "['<SOS>', '婪', '婪', '婪', '冷', '娑', '涎', '淪', '婢', '讼', '府', '涎', '涎', '嗝', '陡', '讼', '涎', '涎', '倸', '<EOS>', '婢', '駛', '囉', '涎', '涎']\n",
      "[3098, 3098, 3250, 3731, 4621, 2349, 4495, 5644, 6394, 2895, 2895, 2895, 2895, 2895, 2895, 2895, 2895, 2895, 2895, 2895, 2895, 1266, 1266, 1266]\n",
      "['<SOS>', '婪', '婪', '锤', '続', '瑛', '杆', '皎', '玠', '覓', '桨', '桨', '桨', '桨', '桨', '桨', '桨', '桨', '桨', '桨', '桨', '桨', '偎', '偎', '偎']\n",
      "[3098, 3098, 3098, 3098, 4653, 5783, 6560, 3281, 336, 6201, 3952, 2376, 1540, 2226, 153, 2523, 5010, 2523, 678, 5431, 5290, 1266, 5006, 3578]\n",
      "['<SOS>', '婪', '婪', '婪', '婪', '晝', '阜', '莒', '娜', '体', '烯', '瑪', '谣', '萝', '杰', '头', '挟', '秉', '挟', '恒', '權', '唬', '偎', '驸', '鹿']\n",
      "[2292, 736, 2104, 1266, 6072, 2993, 2710, 4295, 269, 2104, 236, 2104, 1266, 595, 3992, 2104, 3115, 5006, 422, 33, 4828, 487, 4104, 5290]\n",
      "['<SOS>', '達', '冷', '牛', '偎', '絨', '策', '斟', '洮', '喜', '牛', '乐', '牛', '偎', '源', '咆', '牛', '芮', '驸', '界', '思', '埠', '茫', '將', '唬']\n"
     ]
    }
   ],
   "source": [
    "with open('task2-2.txt', 'w', encoding=\"utf-8\") as f:\n",
    "    for idx, sent in enumerate(prediction):\n",
    "        s = ' '\n",
    "        seq = [\"<SOS>\"] + [word_dict.idx2word(word_idx) for word_idx in sent]\n",
    "        f.writelines(s.join(seq) + '\\n')"
   ]
  }
 ],
 "metadata": {
  "kernelspec": {
   "display_name": "Python 3",
   "language": "python",
   "name": "python3"
  },
  "language_info": {
   "codemirror_mode": {
    "name": "ipython",
    "version": 3
   },
   "file_extension": ".py",
   "mimetype": "text/x-python",
   "name": "python",
   "nbconvert_exporter": "python",
   "pygments_lexer": "ipython3",
   "version": "3.7.4"
  }
 },
 "nbformat": 4,
 "nbformat_minor": 2
}
