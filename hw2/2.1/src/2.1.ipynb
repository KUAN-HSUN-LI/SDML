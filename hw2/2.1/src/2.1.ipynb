{
 "cells": [
  {
   "cell_type": "markdown",
   "metadata": {},
   "source": [
    "## Set random seed"
   ]
  },
  {
   "cell_type": "code",
   "execution_count": 1,
   "metadata": {},
   "outputs": [
    {
     "data": {
      "text/plain": [
       "<torch._C.Generator at 0x7fed2c1b4dd0>"
      ]
     },
     "execution_count": 1,
     "metadata": {},
     "output_type": "execute_result"
    }
   ],
   "source": [
    "import torch\n",
    "torch.manual_seed(42)"
   ]
  },
  {
   "cell_type": "markdown",
   "metadata": {},
   "source": [
    "## Preprocess"
   ]
  },
  {
   "cell_type": "code",
   "execution_count": 2,
   "metadata": {},
   "outputs": [],
   "source": [
    "def preprocess(path, max_len = None, testing = False):\n",
    "    dataset = []\n",
    "    with open(path, 'r', encoding='UTF-8') as f:\n",
    "        for line in f:\n",
    "            line = line.strip()\n",
    "            if testing:\n",
    "                dataset.append([word for word in line])\n",
    "            else:\n",
    "                dataset.append(['<SOS>'] + [word for word in line[:max_len]] + ['<EOS>'])\n",
    "    return dataset"
   ]
  },
  {
   "cell_type": "code",
   "execution_count": 3,
   "metadata": {},
   "outputs": [],
   "source": [
    "max_len = 25\n",
    "dataset = preprocess('../data/hw2.1_corpus.txt', max_len)\n",
    "testDataset = preprocess('../data/hw2.1-2_sample_testing_data.txt', testing=True)"
   ]
  },
  {
   "cell_type": "code",
   "execution_count": 4,
   "metadata": {},
   "outputs": [],
   "source": [
    "class Word_dict():\n",
    "    def __init__(self, dataset, max_len):\n",
    "        self.word_dict = {}\n",
    "        self.idx_dict = {}\n",
    "        self.add(\"<PAD>\")\n",
    "        for i in range(1, max_len + 1):\n",
    "            self.add(str(i))\n",
    "        self.add(\"<UNK>\")\n",
    "\n",
    "        self.make_dict(dataset)\n",
    "        \n",
    "    def make_dict(self, dataset):\n",
    "        for sent in dataset:\n",
    "            for word in sent:\n",
    "                self.add(word)\n",
    "        \n",
    "    def add(self, word):\n",
    "        if word not in self.word_dict:\n",
    "            self.idx_dict[self.get_len()] = word\n",
    "            self.word_dict[word] = self.get_len()\n",
    "            \n",
    "            \n",
    "    def word2index(self, word):\n",
    "        if word in self.word_dict:\n",
    "            return self.word_dict[word]\n",
    "        else:\n",
    "            return self.word_dict[\"<UNK>\"]\n",
    "    \n",
    "    def idx2word(self, idx):\n",
    "        return self.idx_dict[idx]\n",
    "    \n",
    "    def get_len(self):\n",
    "        return len(self.word_dict)"
   ]
  },
  {
   "cell_type": "code",
   "execution_count": 5,
   "metadata": {},
   "outputs": [],
   "source": [
    "word_dict = Word_dict(dataset, max_len)\n",
    "PAD_IDX = word_dict.word2index(\"<PAD>\")\n",
    "import pickle\n",
    "\n",
    "with open('dicitonary.pkl','wb') as f:\n",
    "    pickle.dump(word_dict, f)"
   ]
  },
  {
   "cell_type": "code",
   "execution_count": 6,
   "metadata": {},
   "outputs": [],
   "source": [
    "def data2index(sent):\n",
    "    return [word_dict.word2index(word) for word in sent]\n",
    "\n",
    "def process_training_data(dataset):\n",
    "    datas = []\n",
    "    for idx in range(len(dataset)-1):\n",
    "        processed = {}\n",
    "        processed['x'] = data2index(dataset[idx])\n",
    "        processed['y'] = data2index(dataset[idx+1])\n",
    "        datas.append(processed)\n",
    "    return datas\n",
    "\n",
    "def process_testing_data(dataset):\n",
    "    datas = []\n",
    "    for data in dataset:\n",
    "        datas.append(data2index(data))\n",
    "    return datas"
   ]
  },
  {
   "cell_type": "code",
   "execution_count": 7,
   "metadata": {},
   "outputs": [],
   "source": [
    "from sklearn.model_selection import train_test_split\n",
    "\n",
    "data = process_training_data(dataset)\n",
    "trainData, validData = train_test_split(data, test_size=0.2, random_state=42)\n",
    "\n",
    "testData = process_testing_data(testDataset)"
   ]
  },
  {
   "cell_type": "code",
   "execution_count": 8,
   "metadata": {},
   "outputs": [],
   "source": [
    "from sklearn.model_selection import train_test_split\n",
    "trainData, validData = train_test_split(data, test_size=0.2, random_state=42)"
   ]
  },
  {
   "cell_type": "code",
   "execution_count": 9,
   "metadata": {},
   "outputs": [],
   "source": [
    "import random\n",
    "random.seed(42)"
   ]
  },
  {
   "cell_type": "code",
   "execution_count": 10,
   "metadata": {},
   "outputs": [],
   "source": [
    "from torch.utils.data import Dataset\n",
    "from torch.nn.utils.rnn import pack_padded_sequence, pad_packed_sequence\n",
    "import torch\n",
    "\n",
    "class SentenceDataset(Dataset):\n",
    "    def __init__(self, data, pad_idx, ncontrols = 1, training = True):\n",
    "        self.data = data\n",
    "        self.pad_idx = pad_idx\n",
    "        self.max_len = max_len\n",
    "        self.training = training\n",
    "        self.ncontrols = ncontrols\n",
    "    def __len__(self):\n",
    "        return len(self.data)\n",
    "\n",
    "    def __getitem__(self, index):\n",
    "        return self.data[index]\n",
    "        \n",
    "    def collate_fn(self, datas):\n",
    "        if self.training:\n",
    "            processed_data = []\n",
    "            for data in datas:\n",
    "                self.process_data(data)\n",
    "                processed_data.append(data)\n",
    "            processed_data.sort(key=lambda x : len(x['x']), reverse=True)\n",
    "            batch_data = [data['x'] for data in processed_data]\n",
    "            \n",
    "            datas_len = [len(data) for data in batch_data]\n",
    "            batch_data = self.make_padding(batch_data)\n",
    "            \n",
    "            batch_label = [data['y'] for data in processed_data]\n",
    "            batch_label = self.make_padding(batch_label)\n",
    "            batch_random_num = [data['random_num'] for data in processed_data]\n",
    "                        \n",
    "            return torch.LongTensor(batch_data), torch.LongTensor(batch_label), torch.LongTensor(datas_len), batch_random_num\n",
    "        \n",
    "        else:\n",
    "            datas_idx = sorted(range(len(datas)), key=lambda x : datas[x])\n",
    "            datas.sort(key=lambda x: len(x), reverse=True)\n",
    "            datas_len = [len(sent) for sent in datas]\n",
    "            batch_data = self.make_padding(datas)\n",
    "            return torch.LongTensor(batch_data), torch.LongTensor(datas_len), datas_idx\n",
    "    \n",
    "    def process_data(self, data):\n",
    "        data['random_num'] = self.get_ncontrols(len(data['y'])-2)\n",
    "        data['x'] = self.add_control(data['x'], data['y'], data['random_num'])\n",
    "    \n",
    "    def get_ncontrols(self, sent_len):\n",
    "        sample_num = random.randint(1, self.ncontrols)\n",
    "        if sent_len < sample_num:\n",
    "            sample_num = sent_len\n",
    "            \n",
    "        samples = random.sample([i for i in range(1, sent_len+1)], sample_num)\n",
    "        samples.sort()\n",
    "        return samples\n",
    "    \n",
    "    def add_control(self, data, label, samples):\n",
    "        for sample in samples:\n",
    "            data = data + [word_dict.word2index(str(sample))] + [label[sample]]\n",
    "        return data\n",
    "    \n",
    "    def make_padding(self, datas):\n",
    "        max_len = max([len(data) for data in datas])\n",
    "        return [data + [self.pad_idx]*(max_len-len(data)) for data in datas]"
   ]
  },
  {
   "cell_type": "code",
   "execution_count": 11,
   "metadata": {},
   "outputs": [],
   "source": [
    "trainData = SentenceDataset(trainData, PAD_IDX, 2)\n",
    "validData = SentenceDataset(validData, PAD_IDX, 2)\n",
    "testData = SentenceDataset(testData, PAD_IDX, training = False)"
   ]
  },
  {
   "cell_type": "markdown",
   "metadata": {},
   "source": [
    "## Model"
   ]
  },
  {
   "cell_type": "code",
   "execution_count": 12,
   "metadata": {},
   "outputs": [],
   "source": [
    "from torch import nn"
   ]
  },
  {
   "cell_type": "code",
   "execution_count": 13,
   "metadata": {},
   "outputs": [],
   "source": [
    "class Embedding(nn.Module):\n",
    "    def __init__(self, input_dim, emb_dim):\n",
    "        super(Embedding, self).__init__()\n",
    "        \n",
    "        self.embedding = nn.Embedding(input_dim, emb_dim)\n",
    "        \n",
    "    def forward(self, input):\n",
    "        embedded = self.embedding(input)\n",
    "        \n",
    "        return embedded"
   ]
  },
  {
   "cell_type": "code",
   "execution_count": 14,
   "metadata": {},
   "outputs": [],
   "source": [
    "from torch.nn.utils.rnn import pack_padded_sequence\n",
    "class Encoder(nn.Module):\n",
    "    def __init__(self, emb_dim, hid_dim, embedding):\n",
    "        super(Encoder, self).__init__()\n",
    "        \n",
    "        self.embedding = embedding\n",
    "    \n",
    "        self.rnn = nn.GRU(emb_dim, hid_dim, batch_first=True)        \n",
    "    \n",
    "    def forward(self, input, data_len):\n",
    "        input = self.embedding(input)\n",
    "        \n",
    "        pack_datas = pack_padded_sequence(input, data_len, batch_first=True)\n",
    "        \n",
    "        outputs, hidden = self.rnn(input)\n",
    "        \n",
    "        return hidden"
   ]
  },
  {
   "cell_type": "code",
   "execution_count": 15,
   "metadata": {},
   "outputs": [],
   "source": [
    "class Decoder(nn.Module):\n",
    "    def __init__(self, output_dim, emb_dim, hid_dim, embedding):\n",
    "        super(Decoder, self).__init__()\n",
    "        \n",
    "        self.output_dim = output_dim\n",
    "        \n",
    "        self.embedding = embedding\n",
    "        \n",
    "        self.rnn = nn.GRU(emb_dim, hid_dim, batch_first=True)\n",
    "\n",
    "        self.out = nn.Linear(hid_dim, output_dim)\n",
    "        \n",
    "    def forward(self, input, hidden):\n",
    "        input = self.embedding(input)\n",
    "        \n",
    "        output, hidden = self.rnn(input, hidden)\n",
    "        \n",
    "        prediction = self.out(output)\n",
    "        \n",
    "        return prediction, hidden"
   ]
  },
  {
   "cell_type": "code",
   "execution_count": 16,
   "metadata": {},
   "outputs": [],
   "source": [
    "class Seq2Seq(nn.Module):\n",
    "    def __init__(self, encoder, decoder):\n",
    "        super(Seq2Seq, self).__init__()\n",
    "        \n",
    "        self.encoder = encoder\n",
    "        self.decoder = decoder\n",
    "        \n",
    "    def forward(self, src, trg = None, data_len = None, teacher_forcing_ratio = 0.5, training = True):\n",
    "        batch_size = src.shape[0]\n",
    "        if training:\n",
    "            max_len = trg.shape[1]\n",
    "        else:\n",
    "            max_len = 25\n",
    "        \n",
    "        trg_vocab_size = self.decoder.output_dim\n",
    "        \n",
    "        outputs = torch.zeros(batch_size, max_len-1, trg_vocab_size).to(device)\n",
    "        \n",
    "        hidden = self.encoder(src, data_len)\n",
    "        \n",
    "        input = src[:, 0:1]\n",
    "        for t in range(1, max_len):\n",
    "            output, hidden = self.decoder(input, hidden)\n",
    "            outputs[:,t-1:t] = output\n",
    "            \n",
    "            top1 = output.argmax(2)\n",
    "            \n",
    "            if torch.rand(1) > teacher_forcing_ratio:\n",
    "                input = top1\n",
    "            else:\n",
    "                input = trg[:,t:t+1]\n",
    "        return outputs"
   ]
  },
  {
   "cell_type": "markdown",
   "metadata": {},
   "source": [
    "## Train"
   ]
  },
  {
   "cell_type": "code",
   "execution_count": 17,
   "metadata": {},
   "outputs": [],
   "source": [
    "device = torch.device('cuda' if torch.cuda.is_available() else 'cpu')"
   ]
  },
  {
   "cell_type": "code",
   "execution_count": 18,
   "metadata": {},
   "outputs": [],
   "source": [
    "INPUT_DIM = word_dict.get_len()\n",
    "OUTPUT_DIM = word_dict.get_len()\n",
    "EMB_DIM = 128\n",
    "HID_DIM = 128\n",
    "\n",
    "emb = Embedding(INPUT_DIM, EMB_DIM)\n",
    "enc = Encoder(EMB_DIM, HID_DIM, emb)\n",
    "dec = Decoder(OUTPUT_DIM, EMB_DIM, HID_DIM, emb)\n",
    "\n",
    "model = Seq2Seq(enc, dec).to(device)"
   ]
  },
  {
   "cell_type": "code",
   "execution_count": 19,
   "metadata": {},
   "outputs": [
    {
     "name": "stdout",
     "output_type": "stream",
     "text": [
      "Seq2Seq(\n",
      "  (encoder): Encoder(\n",
      "    (embedding): Embedding(\n",
      "      (embedding): Embedding(6583, 128)\n",
      "    )\n",
      "    (rnn): GRU(128, 128, batch_first=True)\n",
      "  )\n",
      "  (decoder): Decoder(\n",
      "    (embedding): Embedding(\n",
      "      (embedding): Embedding(6583, 128)\n",
      "    )\n",
      "    (rnn): GRU(128, 128, batch_first=True)\n",
      "    (out): Linear(in_features=128, out_features=6583, bias=True)\n",
      "  )\n",
      ")\n"
     ]
    }
   ],
   "source": [
    "print(model)"
   ]
  },
  {
   "cell_type": "code",
   "execution_count": 20,
   "metadata": {},
   "outputs": [
    {
     "name": "stdout",
     "output_type": "stream",
     "text": [
      "The model has 1,889,975 trainable parameters\n"
     ]
    }
   ],
   "source": [
    "def count_parameters(model):\n",
    "    return sum(p.numel() for p in model.parameters() if p.requires_grad)\n",
    "\n",
    "print(f'The model has {count_parameters(model):,} trainable parameters')"
   ]
  },
  {
   "cell_type": "code",
   "execution_count": 21,
   "metadata": {},
   "outputs": [],
   "source": [
    "class accuracy():\n",
    "    def __init__(self):\n",
    "        self.ncontrol_word = 0\n",
    "        self.nword_correct = 0\n",
    "    def update(self, predictions, groundTruths, random_nums):\n",
    "        predictions = predictions.cpu()\n",
    "        groundTruths = groundTruths.cpu()\n",
    "        for i in range(len(groundTruths)):\n",
    "            length = int(torch.sum(groundTruths[i] != PAD_IDX))\n",
    "            prediction = predictions[i][:length]\n",
    "            groundTruth = groundTruths[i][:length]\n",
    "            random_num = random_nums[i]\n",
    "            self.ncontrol_word += len(random_num)\n",
    "            for num in random_num:\n",
    "                if prediction[num-1] == groundTruth[num-1]:\n",
    "                    self.nword_correct += 1\n",
    "            \n",
    "    \n",
    "    def get_word_score(self):\n",
    "        return self.nword_correct / self.ncontrol_word\n",
    "    \n",
    "    def print_word_score(self):\n",
    "        score = self.get_word_score()\n",
    "        return '{:.5f}'.format(score)"
   ]
  },
  {
   "cell_type": "code",
   "execution_count": 22,
   "metadata": {},
   "outputs": [],
   "source": [
    "import os\n",
    "from torch.utils.data import DataLoader\n",
    "from tqdm import tqdm_notebook as tqdm\n",
    "import json\n",
    "\n",
    "def run_epoch(epoch, training):\n",
    "    model.train(training)\n",
    "    if training:\n",
    "        description = 'Train'\n",
    "        dataset = trainData\n",
    "        shuffle = True\n",
    "    else:\n",
    "        description = 'Valid'\n",
    "        dataset = validData\n",
    "        shuffle = False\n",
    "    \n",
    "    dataloader = DataLoader(dataset = dataset,\n",
    "                            batch_size = batch_size,\n",
    "                            shuffle=shuffle,\n",
    "                            collate_fn=dataset.collate_fn,\n",
    "                            num_workers=0)\n",
    "    \n",
    "    trange = tqdm(enumerate(dataloader), total=len(dataloader), desc=description)\n",
    "    loss = 0\n",
    "    acc = accuracy()\n",
    "    for i, (x, y, data_len, random_num) in trange:\n",
    "        output, sent_loss = run_iter(x, y, data_len, random_num, training)\n",
    "        batch_loss = sent_loss\n",
    "        if training:\n",
    "            opt.zero_grad()\n",
    "            batch_loss.backward()\n",
    "            opt.step()\n",
    "        loss += batch_loss.item()\n",
    "        acc.update(output, y[:, 1:], random_num)\n",
    "        trange.set_postfix(loss = loss / (i + 1), acc = acc.print_word_score())\n",
    "    if training:\n",
    "        history['train'].append({'acc':acc.get_word_score(), 'loss':loss/ len(trange)})\n",
    "    else:\n",
    "        history['valid'].append({'acc':acc.get_word_score(), 'loss':loss/ len(trange)})\n",
    "def run_iter(x, y, data_len, random_nums, training):\n",
    "    x = x.to(device)\n",
    "    y = y.to(device)\n",
    "    if training:\n",
    "        output = model(x, y, data_len)\n",
    "    else:\n",
    "        with torch.no_grad():\n",
    "            output = model(x, y, data_len, 0)\n",
    "    sent = y[:, 1:]\n",
    "    sent = sent.reshape(sent.shape[0] * sent.shape[1])\n",
    "    output_sent = output.view(output.shape[0] * output.shape[1], output.shape[2])\n",
    "    sent_loss = criterion(output_sent, sent)\n",
    "        \n",
    "    return output.argmax(2), sent_loss\n",
    "\n",
    "def save(epoch):\n",
    "    if not os.path.exists('model'):\n",
    "        os.makedirs('model')\n",
    "    torch.save(model.state_dict(), 'model/model.pkl.'+str(epoch))\n",
    "    with open('model/history.json', 'w') as f:\n",
    "        json.dump(history, f, indent=4)"
   ]
  },
  {
   "cell_type": "code",
   "execution_count": 23,
   "metadata": {},
   "outputs": [],
   "source": [
    "criterion = nn.CrossEntropyLoss(ignore_index = PAD_IDX)\n",
    "\n",
    "opt = torch.optim.Adam(model.parameters(), lr=1e-3)\n",
    "scheduler = torch.optim.lr_scheduler.StepLR(opt, step_size = 10, gamma = 0.5)\n",
    "max_epoch = 50\n",
    "batch_size = 32\n",
    "history = {'train':[],'valid':[]}"
   ]
  },
  {
   "cell_type": "code",
   "execution_count": null,
   "metadata": {
    "scrolled": true
   },
   "outputs": [
    {
     "name": "stdout",
     "output_type": "stream",
     "text": [
      "Epoch: 0\n"
     ]
    },
    {
     "data": {
      "application/vnd.jupyter.widget-view+json": {
       "model_id": "a9f8018dcb4d49b58e15e26c57d31c53",
       "version_major": 2,
       "version_minor": 0
      },
      "text/plain": [
       "HBox(children=(IntProgress(value=0, description='Train', max=18543, style=ProgressStyle(description_width='ini…"
      ]
     },
     "metadata": {},
     "output_type": "display_data"
    },
    {
     "name": "stdout",
     "output_type": "stream",
     "text": [
      "\n"
     ]
    },
    {
     "data": {
      "application/vnd.jupyter.widget-view+json": {
       "model_id": "97f475a7b3b74248b51e589f0d31211e",
       "version_major": 2,
       "version_minor": 0
      },
      "text/plain": [
       "HBox(children=(IntProgress(value=0, description='Valid', max=4636, style=ProgressStyle(description_width='init…"
      ]
     },
     "metadata": {},
     "output_type": "display_data"
    },
    {
     "name": "stdout",
     "output_type": "stream",
     "text": [
      "\n",
      "Epoch: 1\n"
     ]
    },
    {
     "data": {
      "application/vnd.jupyter.widget-view+json": {
       "model_id": "cd1d6b30851949cc9c7569581d6bb98d",
       "version_major": 2,
       "version_minor": 0
      },
      "text/plain": [
       "HBox(children=(IntProgress(value=0, description='Train', max=18543, style=ProgressStyle(description_width='ini…"
      ]
     },
     "metadata": {},
     "output_type": "display_data"
    }
   ],
   "source": [
    "for epoch in range(max_epoch):\n",
    "    print('Epoch: {}'.format(epoch))\n",
    "    run_epoch(epoch, True)\n",
    "    run_epoch(epoch, False)\n",
    "    scheduler.step()\n",
    "    save(epoch)"
   ]
  },
  {
   "cell_type": "code",
   "execution_count": null,
   "metadata": {},
   "outputs": [],
   "source": [
    "import matplotlib.pyplot as plt\n",
    "%matplotlib inline\n",
    "\n",
    "with open('model/history.json', 'r') as f:\n",
    "    history = json.loads(f.read())\n",
    "    \n",
    "train_loss = [l['loss'] for l in history['train']]\n",
    "valid_loss = [l['loss'] for l in history['valid']]\n",
    "train_f1 = [l['word_acc'] for l in history['train']]\n",
    "valid_f1 = [l['acc'] for l in history['valid']]\n",
    "\n",
    "plt.figure(figsize=(7,5))\n",
    "plt.title('Loss')\n",
    "plt.plot(train_loss, label='train')\n",
    "plt.plot(valid_loss, label='valid')\n",
    "plt.legend()\n",
    "plt.show()\n",
    "\n",
    "plt.figure(figsize=(7,5))\n",
    "plt.title('F1 Score')\n",
    "plt.plot(train_f1, label='train')\n",
    "plt.plot(valid_f1, label='valid')\n",
    "plt.legend()\n",
    "plt.show()\n",
    "\n",
    "print('Best F1 score ', max([[l['acc'], idx] for idx, l in enumerate(history['valid'])]))"
   ]
  },
  {
   "cell_type": "code",
   "execution_count": null,
   "metadata": {},
   "outputs": [],
   "source": [
    "model.load_state_dict(torch.load('model/model.pkl.{}'.format(-1)))\n",
    "model.train(False)\n",
    "dataloader = DataLoader(dataset=testData,\n",
    "                            batch_size=32,\n",
    "                            shuffle=False,\n",
    "                            collate_fn=testData.collate_fn,\n",
    "                            num_workers=0)\n",
    "trange = tqdm(enumerate(dataloader), total=len(dataloader), desc='Predict')\n",
    "prediction = []\n",
    "true = []\n",
    "random_nums = []\n",
    "for i, (x, data_len, datas_idx) in trange:\n",
    "    o_labels = model(x.to(device), data_len = data_len,teacher_forcing_ratio = 0.0, training = False)\n",
    "    o_labels = torch.argmax(o_labels, dim = 2)\n",
    "    o_labels = o_labels.to('cpu').numpy().tolist()\n",
    "    for idx in datas_idx:\n",
    "        prediction.append(o_labels[idx])\n"
   ]
  },
  {
   "cell_type": "code",
   "execution_count": null,
   "metadata": {},
   "outputs": [],
   "source": [
    "with open('task2-2.txt', 'w', encoding=\"utf-8\") as f:\n",
    "    for idx, sent in enumerate(prediction):\n",
    "        s = ' '\n",
    "        seq = [\"<SOS>\"] + [word_dict.idx2word(word_idx) for word_idx in sent]\n",
    "        f.writelines(s.join(seq) + '\\n')"
   ]
  }
 ],
 "metadata": {
  "kernelspec": {
   "display_name": "Python 3",
   "language": "python",
   "name": "python3"
  },
  "language_info": {
   "codemirror_mode": {
    "name": "ipython",
    "version": 3
   },
   "file_extension": ".py",
   "mimetype": "text/x-python",
   "name": "python",
   "nbconvert_exporter": "python",
   "pygments_lexer": "ipython3",
   "version": "3.7.4"
  }
 },
 "nbformat": 4,
 "nbformat_minor": 2
}
